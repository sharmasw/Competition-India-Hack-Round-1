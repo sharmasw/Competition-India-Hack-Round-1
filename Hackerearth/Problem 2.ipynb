{
 "cells": [
  {
   "cell_type": "code",
   "execution_count": 1,
   "metadata": {
    "collapsed": false
   },
   "outputs": [
    {
     "name": "stderr",
     "output_type": "stream",
     "text": [
      "C:\\Users\\sharm_000\\Anaconda2\\lib\\site-packages\\sklearn\\cross_validation.py:44: DeprecationWarning: This module was deprecated in version 0.18 in favor of the model_selection module into which all the refactored classes and functions are moved. Also note that the interface of the new CV iterators are different from that of this module. This module will be removed in 0.20.\n",
      "  \"This module will be removed in 0.20.\", DeprecationWarning)\n"
     ]
    }
   ],
   "source": [
    "import pandas as pd\n",
    "import numpy as np\n",
    "import xgboost as xgb\n",
    "import seaborn as sns\n",
    "%matplotlib inline\n",
    "import matplotlib.pyplot as plt\n",
    "path='C:/Projects/Hackerearth/Problem 2/'"
   ]
  },
  {
   "cell_type": "code",
   "execution_count": 2,
   "metadata": {
    "collapsed": false
   },
   "outputs": [],
   "source": [
    "data=pd.read_json(path+'train_data.json')\n",
    "test_data=pd.read_json(path+'test_data.json')"
   ]
  },
  {
   "cell_type": "code",
   "execution_count": 3,
   "metadata": {
    "collapsed": false
   },
   "outputs": [
    {
     "data": {
      "text/plain": [
       "((200000, 6), (100000, 5))"
      ]
     },
     "execution_count": 3,
     "metadata": {},
     "output_type": "execute_result"
    }
   ],
   "source": [
    "train_data=data.transpose()\n",
    "test=test_data.transpose()\n",
    "train_data.shape,test.shape"
   ]
  },
  {
   "cell_type": "code",
   "execution_count": 4,
   "metadata": {
    "collapsed": false
   },
   "outputs": [],
   "source": [
    "test=test.reset_index()\n",
    "train_data=train_data.reset_index()"
   ]
  },
  {
   "cell_type": "code",
   "execution_count": 5,
   "metadata": {
    "collapsed": true
   },
   "outputs": [],
   "source": [
    "mappa={'neg':0,'pos':1}\n",
    "train_data['segment']=train_data['segment'].map(mappa)"
   ]
  },
  {
   "cell_type": "code",
   "execution_count": 6,
   "metadata": {
    "collapsed": false
   },
   "outputs": [],
   "source": [
    "all_data=pd.concat([train_data,test],axis=0)\n",
    "all_data=all_data.reset_index(drop=True)"
   ]
  },
  {
   "cell_type": "code",
   "execution_count": 7,
   "metadata": {
    "collapsed": false
   },
   "outputs": [],
   "source": [
    "all_data.columns=[u'cities', u'dow', u'genres', u'user_id', u'segment', u'titles', u'tod']"
   ]
  },
  {
   "cell_type": "code",
   "execution_count": 8,
   "metadata": {
    "collapsed": false
   },
   "outputs": [
    {
     "data": {
      "text/plain": [
       "87386"
      ]
     },
     "execution_count": 8,
     "metadata": {},
     "output_type": "execute_result"
    }
   ],
   "source": [
    "sum([int(i.split(':')[1] )for i in (all_data['cities'][0]).split(',')])"
   ]
  },
  {
   "cell_type": "code",
   "execution_count": 9,
   "metadata": {
    "collapsed": false
   },
   "outputs": [
    {
     "data": {
      "text/plain": [
       "[[u'1', 3412],\n",
       " [u'3', 15878],\n",
       " [u'2', 1737],\n",
       " [u'5', 10975],\n",
       " [u'4', 20974],\n",
       " [u'7', 17820],\n",
       " [u'6', 16580]]"
      ]
     },
     "execution_count": 9,
     "metadata": {},
     "output_type": "execute_result"
    }
   ],
   "source": [
    "[[i.split(':')[0],int(i.split(':')[1])] for i in all_data['dow'][0].split(',')]"
   ]
  },
  {
   "cell_type": "code",
   "execution_count": 10,
   "metadata": {
    "collapsed": false
   },
   "outputs": [],
   "source": [
    "all_data['no_of_Cities']=all_data['cities'].apply(lambda x:len(x.split(',')) )\n",
    "all_data['no_of_dow']=all_data['dow'].apply(lambda x:len(x.split(',')) )\n",
    "all_data['no_of_tod']=all_data['tod'].apply(lambda x:len(x.split(',')) )\n",
    "all_data['no_of_genre']=all_data['genres'].apply(lambda x:len(x.split(',')) )\n",
    "all_data['no_of_title']=all_data['titles'].apply(lambda x:len(x.split(',')) )\n",
    "all_data['total_time_spent']=all_data['cities'].apply(lambda x:sum([int(i.split(':')[1] )for i in x.split(',')]))\n",
    "all_data['dow']=all_data['dow'].apply(lambda x:[[i.split(':')[0],int(i.split(':')[1])] for i in x.split(',')])\n",
    "all_data['tod']=all_data['tod'].apply(lambda x:[[i.split(':')[0],int(i.split(':')[1])] for i in x.split(',')])\n",
    "all_data['genres']=all_data['genres'].apply(lambda x:[[i.split(':')[0],int(i.split(':')[1])] for i in x.split(',')])\n",
    "all_data['no_of_titles']=all_data['titles'].apply(lambda x:len(x.split(',')))"
   ]
  },
  {
   "cell_type": "code",
   "execution_count": 11,
   "metadata": {
    "collapsed": true
   },
   "outputs": [],
   "source": [
    "def value_dow(x,a):\n",
    "    try:\n",
    "        return [i[1] for i in x if i[0]==a][0]\n",
    "    except:\n",
    "        return 0"
   ]
  },
  {
   "cell_type": "code",
   "execution_count": null,
   "metadata": {
    "collapsed": false
   },
   "outputs": [],
   "source": [
    "all_data['dow_1']=all_data['dow'].apply(lambda x:value_dow(x,'1'))\n",
    "all_data['dow_2']=all_data['dow'].apply(lambda x:value_dow(x,'2'))\n",
    "all_data['dow_3']=all_data['dow'].apply(lambda x:value_dow(x,'3'))\n",
    "all_data['dow_4']=all_data['dow'].apply(lambda x:value_dow(x,'4'))\n",
    "all_data['dow_5']=all_data['dow'].apply(lambda x:value_dow(x,'5'))\n",
    "all_data['dow_6']=all_data['dow'].apply(lambda x:value_dow(x,'6'))\n",
    "all_data['dow_7']=all_data['dow'].apply(lambda x:value_dow(x,'7'))"
   ]
  },
  {
   "cell_type": "code",
   "execution_count": null,
   "metadata": {
    "collapsed": false,
    "scrolled": true
   },
   "outputs": [],
   "source": [
    "for kk in range(0,24):\n",
    "#     print kk\n",
    "    all_data['tod_'+str(kk)]=all_data['tod'].apply(lambda x:value_dow(x,str(kk)))"
   ]
  },
  {
   "cell_type": "code",
   "execution_count": null,
   "metadata": {
    "collapsed": false
   },
   "outputs": [],
   "source": [
    "genre_list=set([item[0] for kk in all_data['genres'] for item in kk])"
   ]
  },
  {
   "cell_type": "code",
   "execution_count": null,
   "metadata": {
    "collapsed": false,
    "scrolled": true
   },
   "outputs": [],
   "source": [
    "for ee in genre_list:\n",
    "#     print ee\n",
    "    all_data['genres_'+str(ee)]=all_data['genres'].apply(lambda x:value_dow(x,str(ee)))"
   ]
  },
  {
   "cell_type": "code",
   "execution_count": null,
   "metadata": {
    "collapsed": false,
    "scrolled": true
   },
   "outputs": [],
   "source": [
    "naya_data=all_data.copy()\n",
    "del naya_data['cities']\n",
    "del naya_data['dow']\n",
    "del naya_data['tod']\n",
    "del naya_data['genres']\n",
    "del naya_data['titles']\n",
    "del naya_data['user_id']\n",
    "del naya_data['segment']"
   ]
  },
  {
   "cell_type": "code",
   "execution_count": null,
   "metadata": {
    "collapsed": false
   },
   "outputs": [],
   "source": [
    "naya_data.shape"
   ]
  },
  {
   "cell_type": "code",
   "execution_count": null,
   "metadata": {
    "collapsed": true
   },
   "outputs": [],
   "source": [
    "target=train_data['segment']"
   ]
  },
  {
   "cell_type": "code",
   "execution_count": 34,
   "metadata": {
    "collapsed": true
   },
   "outputs": [],
   "source": [
    "model=xgb.XGBClassifier()"
   ]
  },
  {
   "cell_type": "code",
   "execution_count": 35,
   "metadata": {
    "collapsed": false
   },
   "outputs": [
    {
     "data": {
      "text/plain": [
       "XGBClassifier(base_score=0.5, colsample_bylevel=1, colsample_bytree=1,\n",
       "       gamma=0, learning_rate=0.1, max_delta_step=0, max_depth=3,\n",
       "       min_child_weight=1, missing=None, n_estimators=100, nthread=-1,\n",
       "       objective='binary:logistic', reg_alpha=0, reg_lambda=1,\n",
       "       scale_pos_weight=1, seed=0, silent=True, subsample=1)"
      ]
     },
     "execution_count": 35,
     "metadata": {},
     "output_type": "execute_result"
    }
   ],
   "source": [
    "model.fit(naya_data[:200000], target)"
   ]
  },
  {
   "cell_type": "code",
   "execution_count": 36,
   "metadata": {
    "collapsed": true
   },
   "outputs": [],
   "source": [
    "pred=model.predict_proba(naya_data[200000:])"
   ]
  },
  {
   "cell_type": "code",
   "execution_count": 39,
   "metadata": {
    "collapsed": false
   },
   "outputs": [
    {
     "data": {
      "text/plain": [
       "array([ 0.02948648,  0.07009368,  0.19984329, ...,  0.00814223,\n",
       "        0.01096414,  0.07363285], dtype=float32)"
      ]
     },
     "execution_count": 39,
     "metadata": {},
     "output_type": "execute_result"
    }
   ],
   "source": [
    "pred[::,1]"
   ]
  },
  {
   "cell_type": "code",
   "execution_count": 44,
   "metadata": {
    "collapsed": false
   },
   "outputs": [],
   "source": [
    "sub=pd.concat([test['index'],pd.DataFrame(pred[::,1])],axis=1)\n",
    "sub.columns=['ID','segment']\n",
    "sub.to_csv('prob2xgb.csv',index=False)"
   ]
  },
  {
   "cell_type": "code",
   "execution_count": 48,
   "metadata": {
    "collapsed": false
   },
   "outputs": [],
   "source": []
  },
  {
   "cell_type": "code",
   "execution_count": 49,
   "metadata": {
    "collapsed": true
   },
   "outputs": [],
   "source": []
  },
  {
   "cell_type": "markdown",
   "metadata": {},
   "source": [
    "### RF"
   ]
  },
  {
   "cell_type": "code",
   "execution_count": 51,
   "metadata": {
    "collapsed": false
   },
   "outputs": [],
   "source": [
    "from sklearn import ensemble"
   ]
  },
  {
   "cell_type": "code",
   "execution_count": 55,
   "metadata": {
    "collapsed": true
   },
   "outputs": [],
   "source": [
    "rf1=ensemble.RandomForestClassifier(n_estimators=100)\n",
    "rf1.fit(naya_data[:200000], target)\n",
    "rfpred=rf1.predict_proba(naya_data[200000:])"
   ]
  },
  {
   "cell_type": "code",
   "execution_count": 56,
   "metadata": {
    "collapsed": false
   },
   "outputs": [],
   "source": [
    "sub2=pd.concat([test['index'],pd.DataFrame(rfpred[::,1])],axis=1)\n",
    "sub2.columns=['ID','segment']\n",
    "sub2.to_csv('prob2rf.csv',index=False)"
   ]
  },
  {
   "cell_type": "markdown",
   "metadata": {},
   "source": [
    "### mean"
   ]
  },
  {
   "cell_type": "code",
   "execution_count": 59,
   "metadata": {
    "collapsed": false
   },
   "outputs": [
    {
     "data": {
      "text/plain": [
       "array([[ 1.        ,  0.84781087],\n",
       "       [ 0.84781087,  1.        ]])"
      ]
     },
     "execution_count": 59,
     "metadata": {},
     "output_type": "execute_result"
    }
   ],
   "source": [
    "np.corrcoef(sub['segment'],sub2['segment'])"
   ]
  },
  {
   "cell_type": "code",
   "execution_count": 63,
   "metadata": {
    "collapsed": false,
    "scrolled": true
   },
   "outputs": [],
   "source": [
    "sub3=(sub['segment']+sub2['segment'])/2"
   ]
  },
  {
   "cell_type": "code",
   "execution_count": 64,
   "metadata": {
    "collapsed": true
   },
   "outputs": [],
   "source": [
    "sub4=pd.concat([test['index'],pd.DataFrame(sub3)],axis=1)\n",
    "sub4.columns=['ID','segment']\n",
    "sub4.to_csv('prob2mean.csv',index=False)"
   ]
  },
  {
   "cell_type": "markdown",
   "metadata": {},
   "source": [
    "### weighted"
   ]
  },
  {
   "cell_type": "code",
   "execution_count": 66,
   "metadata": {
    "collapsed": false
   },
   "outputs": [],
   "source": [
    "sub5=(.75*(sub['segment'])+.25*(sub2['segment']))"
   ]
  },
  {
   "cell_type": "code",
   "execution_count": 67,
   "metadata": {
    "collapsed": true
   },
   "outputs": [],
   "source": [
    "sub6=pd.concat([test['index'],pd.DataFrame(sub5)],axis=1)\n",
    "sub6.columns=['ID','segment']\n",
    "sub6.to_csv('prob2weighted.csv',index=False)"
   ]
  },
  {
   "cell_type": "code",
   "execution_count": null,
   "metadata": {
    "collapsed": true
   },
   "outputs": [],
   "source": []
  }
 ],
 "metadata": {
  "kernelspec": {
   "display_name": "Python 2",
   "language": "python",
   "name": "python2"
  },
  "language_info": {
   "codemirror_mode": {
    "name": "ipython",
    "version": 2
   },
   "file_extension": ".py",
   "mimetype": "text/x-python",
   "name": "python",
   "nbconvert_exporter": "python",
   "pygments_lexer": "ipython2",
   "version": "2.7.13"
  }
 },
 "nbformat": 4,
 "nbformat_minor": 2
}
