{
 "cells": [
  {
   "cell_type": "code",
   "execution_count": 1,
   "metadata": {
    "collapsed": false
   },
   "outputs": [
    {
     "name": "stderr",
     "output_type": "stream",
     "text": [
      "C:\\Users\\swapnil.sharma\\AppData\\Local\\Continuum\\Anaconda2\\lib\\site-packages\\sklearn\\cross_validation.py:44: DeprecationWarning: This module was deprecated in version 0.18 in favor of the model_selection module into which all the refactored classes and functions are moved. Also note that the interface of the new CV iterators are different from that of this module. This module will be removed in 0.20.\n",
      "  \"This module will be removed in 0.20.\", DeprecationWarning)\n",
      "C:\\Users\\swapnil.sharma\\AppData\\Local\\Continuum\\Anaconda2\\lib\\site-packages\\sklearn\\grid_search.py:43: DeprecationWarning: This module was deprecated in version 0.18 in favor of the model_selection module into which all the refactored classes and functions are moved. This module will be removed in 0.20.\n",
      "  DeprecationWarning)\n"
     ]
    }
   ],
   "source": [
    "import pandas as pd\n",
    "import numpy as np\n",
    "import xgboost as xgb\n",
    "import seaborn as sns\n",
    "%matplotlib inline\n",
    "import matplotlib.pyplot as plt\n",
    "# path='C:/Projects/Hackerearth/Problem 2/'\n",
    "path=''\n",
    "from sklearn import cross_validation, metrics   #Additional scklearn functions\n",
    "from sklearn.grid_search import GridSearchCV \n",
    "from sklearn import metrics,ensemble,linear_model,neighbors"
   ]
  },
  {
   "cell_type": "code",
   "execution_count": 2,
   "metadata": {
    "collapsed": false
   },
   "outputs": [],
   "source": [
    "data=pd.read_csv(path+'new_trains.csv')\n",
    "test_data=pd.read_csv(path+'new_test.csv')"
   ]
  },
  {
   "cell_type": "code",
   "execution_count": 3,
   "metadata": {
    "collapsed": false
   },
   "outputs": [
    {
     "data": {
      "text/plain": [
       "((200000, 750), (100000, 749))"
      ]
     },
     "execution_count": 3,
     "metadata": {},
     "output_type": "execute_result"
    }
   ],
   "source": [
    "data.shape,test_data.shape"
   ]
  },
  {
   "cell_type": "code",
   "execution_count": 4,
   "metadata": {
    "collapsed": false
   },
   "outputs": [
    {
     "data": {
      "text/html": [
       "<div>\n",
       "<style>\n",
       "    .dataframe thead tr:only-child th {\n",
       "        text-align: right;\n",
       "    }\n",
       "\n",
       "    .dataframe thead th {\n",
       "        text-align: left;\n",
       "    }\n",
       "\n",
       "    .dataframe tbody tr th {\n",
       "        vertical-align: top;\n",
       "    }\n",
       "</style>\n",
       "<table border=\"1\" class=\"dataframe\">\n",
       "  <thead>\n",
       "    <tr style=\"text-align: right;\">\n",
       "      <th></th>\n",
       "      <th>segment</th>\n",
       "      <th>no_of_Cities</th>\n",
       "      <th>no_of_dow</th>\n",
       "      <th>no_of_tod</th>\n",
       "      <th>no_of_genre</th>\n",
       "      <th>no_of_title</th>\n",
       "      <th>total_time_spent</th>\n",
       "      <th>dow_1</th>\n",
       "      <th>dow_1_percent</th>\n",
       "      <th>dow_2</th>\n",
       "      <th>...</th>\n",
       "      <th>title_00530</th>\n",
       "      <th>title_00531</th>\n",
       "      <th>title_00532</th>\n",
       "      <th>title_00533</th>\n",
       "      <th>title_00534</th>\n",
       "      <th>title_00535</th>\n",
       "      <th>title_00536</th>\n",
       "      <th>title_00537</th>\n",
       "      <th>title_00538</th>\n",
       "      <th>title_00539</th>\n",
       "    </tr>\n",
       "  </thead>\n",
       "  <tbody>\n",
       "    <tr>\n",
       "      <th>0</th>\n",
       "      <td>0.0</td>\n",
       "      <td>2</td>\n",
       "      <td>7</td>\n",
       "      <td>14</td>\n",
       "      <td>3</td>\n",
       "      <td>60</td>\n",
       "      <td>87386</td>\n",
       "      <td>3412</td>\n",
       "      <td>0.039045</td>\n",
       "      <td>1737</td>\n",
       "      <td>...</td>\n",
       "      <td>0</td>\n",
       "      <td>0</td>\n",
       "      <td>0</td>\n",
       "      <td>0</td>\n",
       "      <td>0</td>\n",
       "      <td>0</td>\n",
       "      <td>1</td>\n",
       "      <td>0</td>\n",
       "      <td>0</td>\n",
       "      <td>0</td>\n",
       "    </tr>\n",
       "    <tr>\n",
       "      <th>1</th>\n",
       "      <td>0.0</td>\n",
       "      <td>3</td>\n",
       "      <td>7</td>\n",
       "      <td>16</td>\n",
       "      <td>2</td>\n",
       "      <td>70</td>\n",
       "      <td>16371</td>\n",
       "      <td>5745</td>\n",
       "      <td>0.350925</td>\n",
       "      <td>3346</td>\n",
       "      <td>...</td>\n",
       "      <td>0</td>\n",
       "      <td>0</td>\n",
       "      <td>1</td>\n",
       "      <td>0</td>\n",
       "      <td>0</td>\n",
       "      <td>0</td>\n",
       "      <td>0</td>\n",
       "      <td>0</td>\n",
       "      <td>0</td>\n",
       "      <td>0</td>\n",
       "    </tr>\n",
       "    <tr>\n",
       "      <th>2</th>\n",
       "      <td>0.0</td>\n",
       "      <td>1</td>\n",
       "      <td>1</td>\n",
       "      <td>3</td>\n",
       "      <td>2</td>\n",
       "      <td>2</td>\n",
       "      <td>4142</td>\n",
       "      <td>0</td>\n",
       "      <td>0.000000</td>\n",
       "      <td>0</td>\n",
       "      <td>...</td>\n",
       "      <td>0</td>\n",
       "      <td>0</td>\n",
       "      <td>0</td>\n",
       "      <td>0</td>\n",
       "      <td>0</td>\n",
       "      <td>0</td>\n",
       "      <td>0</td>\n",
       "      <td>0</td>\n",
       "      <td>0</td>\n",
       "      <td>0</td>\n",
       "    </tr>\n",
       "    <tr>\n",
       "      <th>3</th>\n",
       "      <td>0.0</td>\n",
       "      <td>3</td>\n",
       "      <td>5</td>\n",
       "      <td>6</td>\n",
       "      <td>2</td>\n",
       "      <td>8</td>\n",
       "      <td>8348</td>\n",
       "      <td>658</td>\n",
       "      <td>0.078821</td>\n",
       "      <td>0</td>\n",
       "      <td>...</td>\n",
       "      <td>0</td>\n",
       "      <td>0</td>\n",
       "      <td>0</td>\n",
       "      <td>0</td>\n",
       "      <td>0</td>\n",
       "      <td>0</td>\n",
       "      <td>0</td>\n",
       "      <td>0</td>\n",
       "      <td>0</td>\n",
       "      <td>0</td>\n",
       "    </tr>\n",
       "    <tr>\n",
       "      <th>4</th>\n",
       "      <td>0.0</td>\n",
       "      <td>2</td>\n",
       "      <td>5</td>\n",
       "      <td>9</td>\n",
       "      <td>3</td>\n",
       "      <td>11</td>\n",
       "      <td>10132</td>\n",
       "      <td>1641</td>\n",
       "      <td>0.161962</td>\n",
       "      <td>480</td>\n",
       "      <td>...</td>\n",
       "      <td>0</td>\n",
       "      <td>0</td>\n",
       "      <td>0</td>\n",
       "      <td>0</td>\n",
       "      <td>0</td>\n",
       "      <td>0</td>\n",
       "      <td>0</td>\n",
       "      <td>0</td>\n",
       "      <td>0</td>\n",
       "      <td>0</td>\n",
       "    </tr>\n",
       "  </tbody>\n",
       "</table>\n",
       "<p>5 rows × 750 columns</p>\n",
       "</div>"
      ],
      "text/plain": [
       "   segment  no_of_Cities  no_of_dow  no_of_tod  no_of_genre  no_of_title  \\\n",
       "0      0.0             2          7         14            3           60   \n",
       "1      0.0             3          7         16            2           70   \n",
       "2      0.0             1          1          3            2            2   \n",
       "3      0.0             3          5          6            2            8   \n",
       "4      0.0             2          5          9            3           11   \n",
       "\n",
       "   total_time_spent  dow_1  dow_1_percent  dow_2     ...       title_00530  \\\n",
       "0             87386   3412       0.039045   1737     ...                 0   \n",
       "1             16371   5745       0.350925   3346     ...                 0   \n",
       "2              4142      0       0.000000      0     ...                 0   \n",
       "3              8348    658       0.078821      0     ...                 0   \n",
       "4             10132   1641       0.161962    480     ...                 0   \n",
       "\n",
       "   title_00531  title_00532  title_00533  title_00534  title_00535  \\\n",
       "0            0            0            0            0            0   \n",
       "1            0            1            0            0            0   \n",
       "2            0            0            0            0            0   \n",
       "3            0            0            0            0            0   \n",
       "4            0            0            0            0            0   \n",
       "\n",
       "   title_00536  title_00537  title_00538  title_00539  \n",
       "0            1            0            0            0  \n",
       "1            0            0            0            0  \n",
       "2            0            0            0            0  \n",
       "3            0            0            0            0  \n",
       "4            0            0            0            0  \n",
       "\n",
       "[5 rows x 750 columns]"
      ]
     },
     "execution_count": 4,
     "metadata": {},
     "output_type": "execute_result"
    }
   ],
   "source": [
    "data.head()"
   ]
  },
  {
   "cell_type": "code",
   "execution_count": 5,
   "metadata": {
    "collapsed": true
   },
   "outputs": [],
   "source": [
    "data_copy=data.copy()"
   ]
  },
  {
   "cell_type": "code",
   "execution_count": 6,
   "metadata": {
    "collapsed": true
   },
   "outputs": [],
   "source": [
    "del data_copy['segment']"
   ]
  },
  {
   "cell_type": "code",
   "execution_count": 7,
   "metadata": {
    "collapsed": true
   },
   "outputs": [],
   "source": [
    "target=data['segment']"
   ]
  },
  {
   "cell_type": "code",
   "execution_count": 8,
   "metadata": {
    "collapsed": true
   },
   "outputs": [],
   "source": [
    "train_batch=xgb.DMatrix( data_copy, label=target)\n",
    "test_batch=xgb.DMatrix( test_data,feature_names=test_data.columns)"
   ]
  },
  {
   "cell_type": "code",
   "execution_count": 9,
   "metadata": {
    "collapsed": true
   },
   "outputs": [],
   "source": [
    "num_rounds=74"
   ]
  },
  {
   "cell_type": "code",
   "execution_count": 10,
   "metadata": {
    "collapsed": false,
    "scrolled": true
   },
   "outputs": [],
   "source": [
    "param = {'max_depth':2, 'eta':1, 'silent':1, 'objective':'binary:logistic','eval_metric':'auc',\n",
    "        'learning_rate' :0.1, 'n_estimators':140, 'max_depth':6,\n",
    " 'min_child_weight':1, 'gamma':0, 'subsample':0.8, 'colsample_bytree':0.8,\n",
    " 'objective': 'binary:logistic', 'nthread':4, 'scale_pos_weight':1,'seed':27}\n",
    "model = xgb.train(param, train_batch, num_rounds) "
   ]
  },
  {
   "cell_type": "code",
   "execution_count": 11,
   "metadata": {
    "collapsed": true
   },
   "outputs": [],
   "source": [
    "param = {'max_depth':2, 'eta':1, 'silent':1, 'objective':'binary:logistic','eval_metric':'auc',\n",
    "        'learning_rate' :0.1, 'n_estimators':100, 'max_depth':6,\n",
    " 'min_child_weight':1, 'gamma':0, 'subsample':0.8, 'colsample_bytree':0.8,\n",
    " 'objective': 'binary:logistic', 'nthread':4, 'scale_pos_weight':1,'seed':58}\n",
    "model2 = xgb.train(param, train_batch, num_rounds) "
   ]
  },
  {
   "cell_type": "code",
   "execution_count": 12,
   "metadata": {
    "collapsed": true
   },
   "outputs": [],
   "source": [
    "param = {'max_depth':2, 'eta':1, 'silent':1, 'objective':'binary:logistic','eval_metric':'auc',\n",
    "        'learning_rate' :0.1, 'n_estimators':80, 'max_depth':6,\n",
    " 'min_child_weight':1, 'gamma':0, 'subsample':0.8, 'colsample_bytree':0.8,\n",
    " 'objective': 'binary:logistic', 'nthread':4, 'scale_pos_weight':1,'seed':72}\n",
    "model3 = xgb.train(param, train_batch, num_rounds) "
   ]
  },
  {
   "cell_type": "code",
   "execution_count": 13,
   "metadata": {
    "collapsed": true
   },
   "outputs": [],
   "source": [
    "ped1=model.predict(test_batch)"
   ]
  },
  {
   "cell_type": "code",
   "execution_count": 14,
   "metadata": {
    "collapsed": true
   },
   "outputs": [],
   "source": [
    "ped2=model2.predict(test_batch)"
   ]
  },
  {
   "cell_type": "code",
   "execution_count": 15,
   "metadata": {
    "collapsed": false
   },
   "outputs": [],
   "source": [
    "ped3=model3.predict(test_batch)  #0.81594"
   ]
  },
  {
   "cell_type": "code",
   "execution_count": 16,
   "metadata": {
    "collapsed": false
   },
   "outputs": [
    {
     "data": {
      "text/plain": [
       "((100000L,), (100000L,), (100000L,))"
      ]
     },
     "execution_count": 16,
     "metadata": {},
     "output_type": "execute_result"
    }
   ],
   "source": [
    "ped1.shape,ped2.shape,ped3.shape"
   ]
  },
  {
   "cell_type": "code",
   "execution_count": 17,
   "metadata": {
    "collapsed": false
   },
   "outputs": [],
   "source": [
    "final_pred=(ped1+ped2+ped3)/3  #.80202  0.81506  #0.81665\n",
    "\n",
    "lala=pd.read_csv('prob2xgb.csv') \n",
    "sub=pd.concat([lala['ID'],pd.DataFrame(final_pred)],axis=1)\n",
    "sub.columns=['ID','segment']\n",
    "sub.to_csv('xgbcv27.csv',index=False)"
   ]
  },
  {
   "cell_type": "code",
   "execution_count": 18,
   "metadata": {
    "collapsed": true
   },
   "outputs": [],
   "source": [
    "final_pred=ped1 #0.81594\n",
    "\n",
    "lala=pd.read_csv('prob2xgb.csv') \n",
    "sub=pd.concat([lala['ID'],pd.DataFrame(final_pred)],axis=1)\n",
    "sub.columns=['ID','segment']\n",
    "sub.to_csv('xgbcv28.csv',index=False)"
   ]
  },
  {
   "cell_type": "code",
   "execution_count": 19,
   "metadata": {
    "collapsed": true
   },
   "outputs": [],
   "source": [
    "final_pred=ped2 #0.81593\n",
    "\n",
    "lala=pd.read_csv('prob2xgb.csv') \n",
    "sub=pd.concat([lala['ID'],pd.DataFrame(final_pred)],axis=1)\n",
    "sub.columns=['ID','segment']\n",
    "sub.to_csv('xgbcv29.csv',index=False)"
   ]
  },
  {
   "cell_type": "code",
   "execution_count": 20,
   "metadata": {
    "collapsed": true
   },
   "outputs": [],
   "source": [
    "final_pred=ped3 #0.81540\n",
    "\n",
    "lala=pd.read_csv('prob2xgb.csv') \n",
    "sub=pd.concat([lala['ID'],pd.DataFrame(final_pred)],axis=1)\n",
    "sub.columns=['ID','segment']\n",
    "sub.to_csv('xgbcv30.csv',index=False)"
   ]
  },
  {
   "cell_type": "code",
   "execution_count": 21,
   "metadata": {
    "collapsed": true
   },
   "outputs": [],
   "source": [
    "final_pred=.8*ped2+.2*ped1 #0.81635\n",
    "\n",
    "lala=pd.read_csv('prob2xgb.csv') \n",
    "sub=pd.concat([lala['ID'],pd.DataFrame(final_pred)],axis=1)\n",
    "sub.columns=['ID','segment']\n",
    "sub.to_csv('xgbcv31.csv',index=False)"
   ]
  },
  {
   "cell_type": "code",
   "execution_count": 22,
   "metadata": {
    "collapsed": true
   },
   "outputs": [],
   "source": [
    "final_pred=.8*ped2+.2*ped3 #0.81635\n",
    "\n",
    "lala=pd.read_csv('prob2xgb.csv') \n",
    "sub=pd.concat([lala['ID'],pd.DataFrame(final_pred)],axis=1)\n",
    "sub.columns=['ID','segment']\n",
    "sub.to_csv('xgbcv32.csv',index=False)"
   ]
  },
  {
   "cell_type": "code",
   "execution_count": null,
   "metadata": {
    "collapsed": true
   },
   "outputs": [],
   "source": []
  }
 ],
 "metadata": {
  "kernelspec": {
   "display_name": "Python [Root]",
   "language": "python",
   "name": "Python [Root]"
  },
  "language_info": {
   "codemirror_mode": {
    "name": "ipython",
    "version": 2
   },
   "file_extension": ".py",
   "mimetype": "text/x-python",
   "name": "python",
   "nbconvert_exporter": "python",
   "pygments_lexer": "ipython2",
   "version": "2.7.12"
  }
 },
 "nbformat": 4,
 "nbformat_minor": 2
}
