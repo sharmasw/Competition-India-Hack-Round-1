{
 "cells": [
  {
   "cell_type": "code",
   "execution_count": 116,
   "metadata": {
    "collapsed": false
   },
   "outputs": [],
   "source": [
    "import pandas as pd\n",
    "import numpy as np\n",
    "import xgboost as xgb\n",
    "import seaborn as sns\n",
    "%matplotlib inline\n",
    "import matplotlib.pyplot as plt\n",
    "from sklearn import cross_validation,metrics,model_selection\n",
    "path='C:/Projects/Hackerearth/Problem 1/'\n",
    "# path=''"
   ]
  },
  {
   "cell_type": "code",
   "execution_count": 97,
   "metadata": {
    "collapsed": false
   },
   "outputs": [
    {
     "data": {
      "text/plain": [
       "38485"
      ]
     },
     "execution_count": 97,
     "metadata": {},
     "output_type": "execute_result"
    }
   ],
   "source": [
    "data=pd.read_csv(path+'train.csv')\n",
    "test_data=pd.read_csv(path+'test.csv')\n",
    "mappu={'Front':1, 'Left':2, 'Rear':3, 'Right':4}\n",
    "tain_size=len(data)\n",
    "tain_size"
   ]
  },
  {
   "cell_type": "code",
   "execution_count": 98,
   "metadata": {
    "collapsed": true
   },
   "outputs": [],
   "source": [
    "target=data['SignFacing (Target)'].map(mappu)"
   ]
  },
  {
   "cell_type": "code",
   "execution_count": 99,
   "metadata": {
    "collapsed": false
   },
   "outputs": [],
   "source": [
    "data_all=pd.concat([data,test_data])"
   ]
  },
  {
   "cell_type": "code",
   "execution_count": 100,
   "metadata": {
    "collapsed": true
   },
   "outputs": [],
   "source": [
    "ccc=pd.get_dummies(data_all['DetectedCamera'],prefix='DetectedCamera')\n",
    "data_all=pd.concat([data_all,ccc],axis=1)\n",
    "del data_all['Id']\n",
    "del data_all['DetectedCamera']\n",
    "del data_all['SignFacing (Target)']"
   ]
  },
  {
   "cell_type": "code",
   "execution_count": 101,
   "metadata": {
    "collapsed": false
   },
   "outputs": [
    {
     "data": {
      "text/html": [
       "<div>\n",
       "<table border=\"1\" class=\"dataframe\">\n",
       "  <thead>\n",
       "    <tr style=\"text-align: right;\">\n",
       "      <th></th>\n",
       "      <th>AngleOfSign</th>\n",
       "      <th>SignAspectRatio</th>\n",
       "      <th>SignHeight</th>\n",
       "      <th>SignWidth</th>\n",
       "      <th>DetectedCamera_Front</th>\n",
       "      <th>DetectedCamera_Left</th>\n",
       "      <th>DetectedCamera_Rear</th>\n",
       "      <th>DetectedCamera_Right</th>\n",
       "    </tr>\n",
       "  </thead>\n",
       "  <tbody>\n",
       "    <tr>\n",
       "      <th>0</th>\n",
       "      <td>195</td>\n",
       "      <td>1.02</td>\n",
       "      <td>45</td>\n",
       "      <td>46</td>\n",
       "      <td>0.0</td>\n",
       "      <td>0.0</td>\n",
       "      <td>1.0</td>\n",
       "      <td>0.0</td>\n",
       "    </tr>\n",
       "    <tr>\n",
       "      <th>1</th>\n",
       "      <td>203</td>\n",
       "      <td>1.09</td>\n",
       "      <td>54</td>\n",
       "      <td>59</td>\n",
       "      <td>0.0</td>\n",
       "      <td>0.0</td>\n",
       "      <td>1.0</td>\n",
       "      <td>0.0</td>\n",
       "    </tr>\n",
       "    <tr>\n",
       "      <th>2</th>\n",
       "      <td>26</td>\n",
       "      <td>0.96</td>\n",
       "      <td>108</td>\n",
       "      <td>104</td>\n",
       "      <td>1.0</td>\n",
       "      <td>0.0</td>\n",
       "      <td>0.0</td>\n",
       "      <td>0.0</td>\n",
       "    </tr>\n",
       "    <tr>\n",
       "      <th>3</th>\n",
       "      <td>199</td>\n",
       "      <td>0.81</td>\n",
       "      <td>47</td>\n",
       "      <td>38</td>\n",
       "      <td>0.0</td>\n",
       "      <td>0.0</td>\n",
       "      <td>1.0</td>\n",
       "      <td>0.0</td>\n",
       "    </tr>\n",
       "    <tr>\n",
       "      <th>4</th>\n",
       "      <td>208</td>\n",
       "      <td>0.93</td>\n",
       "      <td>58</td>\n",
       "      <td>54</td>\n",
       "      <td>0.0</td>\n",
       "      <td>0.0</td>\n",
       "      <td>1.0</td>\n",
       "      <td>0.0</td>\n",
       "    </tr>\n",
       "  </tbody>\n",
       "</table>\n",
       "</div>"
      ],
      "text/plain": [
       "   AngleOfSign  SignAspectRatio  SignHeight  SignWidth  DetectedCamera_Front  \\\n",
       "0          195             1.02          45         46                   0.0   \n",
       "1          203             1.09          54         59                   0.0   \n",
       "2           26             0.96         108        104                   1.0   \n",
       "3          199             0.81          47         38                   0.0   \n",
       "4          208             0.93          58         54                   0.0   \n",
       "\n",
       "   DetectedCamera_Left  DetectedCamera_Rear  DetectedCamera_Right  \n",
       "0                  0.0                  1.0                   0.0  \n",
       "1                  0.0                  1.0                   0.0  \n",
       "2                  0.0                  0.0                   0.0  \n",
       "3                  0.0                  1.0                   0.0  \n",
       "4                  0.0                  1.0                   0.0  "
      ]
     },
     "execution_count": 101,
     "metadata": {},
     "output_type": "execute_result"
    }
   ],
   "source": [
    "data_all.head()"
   ]
  },
  {
   "cell_type": "code",
   "execution_count": 102,
   "metadata": {
    "collapsed": true
   },
   "outputs": [],
   "source": [
    "def horizona(x,y):\n",
    "    if x > y:\n",
    "        return 1\n",
    "    else:\n",
    "        return 0"
   ]
  },
  {
   "cell_type": "code",
   "execution_count": 103,
   "metadata": {
    "collapsed": true
   },
   "outputs": [],
   "source": [
    "data_all['sign_area']=data_all['SignHeight']*data_all['SignWidth']*data_all['SignAspectRatio']\n",
    "data_all['new_var']=data_all['AngleOfSign']*data_all['SignAspectRatio']\n",
    "data_all['sign-peri']=data_all['SignHeight']+data_all['SignWidth']\n",
    "data_all['new_var2']=(data_all['AngleOfSign']*data_all['SignAspectRatio'])**2\n",
    "data_all['another_var']=data_all[['SignHeight','SignWidth']].apply(lambda x:horizona(*x),axis=1 )\n",
    "\n"
   ]
  },
  {
   "cell_type": "code",
   "execution_count": 104,
   "metadata": {
    "collapsed": false
   },
   "outputs": [],
   "source": [
    "lala=data_all[:tain_size].copy()\n",
    "lala['target']=target"
   ]
  },
  {
   "cell_type": "code",
   "execution_count": 105,
   "metadata": {
    "collapsed": false
   },
   "outputs": [
    {
     "data": {
      "image/png": "[encoded data removed]",
      "text/plain": [
       "<matplotlib.figure.Figure at 0x10c68358>"
      ]
     },
     "metadata": {},
     "output_type": "display_data"
    }
   ],
   "source": [
    "fig, axs = plt.subplots(4,1)\n",
    "sns.distplot(lala[lala['target']==1]['AngleOfSign'], ax=axs[0])\n",
    "sns.distplot(lala[lala['target']==2]['AngleOfSign'], ax=axs[1])\n",
    "sns.distplot(lala[lala['target']==3]['AngleOfSign'], ax=axs[2])\n",
    "sns.distplot(lala[lala['target']==4]['AngleOfSign'], ax=axs[3])\n",
    "fig.set_size_inches(4, 8)\n"
   ]
  },
  {
   "cell_type": "code",
   "execution_count": 106,
   "metadata": {
    "collapsed": false
   },
   "outputs": [],
   "source": [
    "pppp=pd.get_dummies(pd.cut(data_all['AngleOfSign'],bins=4))\n",
    "data_all=pd.concat([data_all,pppp],axis=1)"
   ]
  },
  {
   "cell_type": "code",
   "execution_count": 107,
   "metadata": {
    "collapsed": false
   },
   "outputs": [
    {
     "data": {
      "text/plain": [
       "Index([u'AngleOfSign', u'SignAspectRatio', u'SignHeight', u'SignWidth',\n",
       "       u'DetectedCamera_Front', u'DetectedCamera_Left', u'DetectedCamera_Rear',\n",
       "       u'DetectedCamera_Right', u'sign_area', u'new_var', u'sign-peri',\n",
       "       u'new_var2', u'another_var', u'(-0.36, 90]', u'(90, 180]',\n",
       "       u'(180, 270]', u'(270, 360]'],\n",
       "      dtype='object')"
      ]
     },
     "execution_count": 107,
     "metadata": {},
     "output_type": "execute_result"
    }
   ],
   "source": [
    "data_all.columns"
   ]
  },
  {
   "cell_type": "code",
   "execution_count": 108,
   "metadata": {
    "collapsed": false
   },
   "outputs": [],
   "source": [
    "data_all.columns=[ u'AngleOfSign', u'SignAspectRatio', u'SignHeight', u'SignWidth',\n",
    "       u'DetectedCamera_Front', u'DetectedCamera_Left', u'DetectedCamera_Rear',\n",
    "       u'DetectedCamera_Right', u'sign_area', u'new_var', u'sign-peri',\n",
    "       u'new_var2', u'another_var',  'A','B','C','D']"
   ]
  },
  {
   "cell_type": "markdown",
   "metadata": {
    "collapsed": false
   },
   "source": [
    "for i in ['sign-peri2','sign_area2','area_ratio2','area_ratio','SignAspectRatio','area_ratio22']:\n",
    "    del data_all[i]"
   ]
  },
  {
   "cell_type": "code",
   "execution_count": 109,
   "metadata": {
    "collapsed": true
   },
   "outputs": [],
   "source": [
    "new_cpy=data_all[:tain_size].copy()\n",
    "new_cpy['target']=target"
   ]
  },
  {
   "cell_type": "code",
   "execution_count": 110,
   "metadata": {
    "collapsed": false
   },
   "outputs": [
    {
     "data": {
      "text/plain": [
       "A                      -0.864498\n",
       "DetectedCamera_Front   -0.539285\n",
       "SignHeight             -0.451750\n",
       "sign-peri              -0.448613\n",
       "SignWidth              -0.412321\n",
       "DetectedCamera_Right   -0.390254\n",
       "sign_area              -0.335276\n",
       "D                      -0.116973\n",
       "another_var            -0.023962\n",
       "SignAspectRatio         0.011728\n",
       "B                       0.197514\n",
       "DetectedCamera_Left     0.460455\n",
       "DetectedCamera_Rear     0.547947\n",
       "new_var2                0.552654\n",
       "new_var                 0.725031\n",
       "AngleOfSign             0.764345\n",
       "C                       0.857945\n",
       "target                  1.000000\n",
       "Name: target, dtype: float64"
      ]
     },
     "execution_count": 110,
     "metadata": {},
     "output_type": "execute_result"
    }
   ],
   "source": [
    "new_cpy.corr()['target'].sort_values()"
   ]
  },
  {
   "cell_type": "code",
   "execution_count": 111,
   "metadata": {
    "collapsed": false
   },
   "outputs": [
    {
     "data": {
      "text/plain": [
       "((26939, 17), (11546, 17), (26939L,), (11546L,))"
      ]
     },
     "execution_count": 111,
     "metadata": {},
     "output_type": "execute_result"
    }
   ],
   "source": [
    "X_train,X_test,y_train,y_test=cross_validation.train_test_split(data_all[:tain_size],target,test_size=.3)\n",
    "X_train.shape,X_test.shape,y_train.shape,y_test.shape"
   ]
  },
  {
   "cell_type": "code",
   "execution_count": 137,
   "metadata": {
    "collapsed": false
   },
   "outputs": [],
   "source": [
    "model=xgb.XGBClassifier(gamma=4,max_depth=6,min_child_weight=9)"
   ]
  },
  {
   "cell_type": "code",
   "execution_count": 138,
   "metadata": {
    "collapsed": false
   },
   "outputs": [
    {
     "data": {
      "text/plain": [
       "XGBClassifier(base_score=0.5, colsample_bylevel=1, colsample_bytree=1,\n",
       "       gamma=4, learning_rate=0.1, max_delta_step=0, max_depth=6,\n",
       "       min_child_weight=9, missing=None, n_estimators=100, nthread=-1,\n",
       "       objective='multi:softprob', reg_alpha=0, reg_lambda=1,\n",
       "       scale_pos_weight=1, seed=0, silent=True, subsample=1)"
      ]
     },
     "execution_count": 138,
     "metadata": {},
     "output_type": "execute_result"
    }
   ],
   "source": [
    "model.fit(X_train,y_train)"
   ]
  },
  {
   "cell_type": "code",
   "execution_count": 139,
   "metadata": {
    "collapsed": false
   },
   "outputs": [
    {
     "data": {
      "text/plain": [
       "99.897034950887971"
      ]
     },
     "execution_count": 139,
     "metadata": {},
     "output_type": "execute_result"
    }
   ],
   "source": [
    "pred=model.predict_proba(X_test)\n",
    "100-metrics.log_loss(y_test,pred)"
   ]
  },
  {
   "cell_type": "code",
   "execution_count": 133,
   "metadata": {
    "collapsed": false
   },
   "outputs": [],
   "source": [
    "parameters = {'gamma':[4],'max_depth':[6],'min_child_weight':[9]}\n",
    "model2=model_selection.GridSearchCV(model,parameters)"
   ]
  },
  {
   "cell_type": "code",
   "execution_count": 134,
   "metadata": {
    "collapsed": false
   },
   "outputs": [
    {
     "data": {
      "text/plain": [
       "GridSearchCV(cv=None, error_score='raise',\n",
       "       estimator=XGBClassifier(base_score=0.5, colsample_bylevel=1, colsample_bytree=1,\n",
       "       gamma=0, learning_rate=0.1, max_delta_step=0, max_depth=3,\n",
       "       min_child_weight=1, missing=None, n_estimators=100, nthread=-1,\n",
       "       objective='multi:softprob', reg_alpha=0, reg_lambda=1,\n",
       "       scale_pos_weight=1, seed=0, silent=True, subsample=1),\n",
       "       fit_params={}, iid=True, n_jobs=1,\n",
       "       param_grid={'max_depth': [6], 'gamma': [0, 1, 2, 3, 4], 'min_child_weight': [9]},\n",
       "       pre_dispatch='2*n_jobs', refit=True, return_train_score=True,\n",
       "       scoring=None, verbose=0)"
      ]
     },
     "execution_count": 134,
     "metadata": {},
     "output_type": "execute_result"
    }
   ],
   "source": [
    "model2.fit(X_train, y_train)"
   ]
  },
  {
   "cell_type": "code",
   "execution_count": 135,
   "metadata": {
    "collapsed": false
   },
   "outputs": [
    {
     "data": {
      "text/plain": [
       "{'gamma': 4, 'max_depth': 6, 'min_child_weight': 9}"
      ]
     },
     "execution_count": 135,
     "metadata": {},
     "output_type": "execute_result"
    }
   ],
   "source": [
    "model2.best_params_"
   ]
  },
  {
   "cell_type": "code",
   "execution_count": 136,
   "metadata": {
    "collapsed": false
   },
   "outputs": [
    {
     "data": {
      "text/plain": [
       "99.897034950887971"
      ]
     },
     "execution_count": 136,
     "metadata": {},
     "output_type": "execute_result"
    }
   ],
   "source": [
    "pred2=model2.predict_proba(X_test)\n",
    "100-metrics.log_loss(y_test,pred2)"
   ]
  },
  {
   "cell_type": "code",
   "execution_count": 140,
   "metadata": {
    "collapsed": false
   },
   "outputs": [
    {
     "data": {
      "text/plain": [
       "XGBClassifier(base_score=0.5, colsample_bylevel=1, colsample_bytree=1,\n",
       "       gamma=4, learning_rate=0.1, max_delta_step=0, max_depth=6,\n",
       "       min_child_weight=9, missing=None, n_estimators=100, nthread=-1,\n",
       "       objective='multi:softprob', reg_alpha=0, reg_lambda=1,\n",
       "       scale_pos_weight=1, seed=0, silent=True, subsample=1)"
      ]
     },
     "execution_count": 140,
     "metadata": {},
     "output_type": "execute_result"
    }
   ],
   "source": [
    "model.fit(data_all[:tain_size],target)"
   ]
  },
  {
   "cell_type": "code",
   "execution_count": 141,
   "metadata": {
    "collapsed": true
   },
   "outputs": [],
   "source": [
    "pred_final=model.predict_proba(data_all[tain_size:])"
   ]
  },
  {
   "cell_type": "code",
   "execution_count": 142,
   "metadata": {
    "collapsed": false
   },
   "outputs": [],
   "source": [
    "sub=pd.DataFrame(pred_final,columns=['Front', 'Left', 'Rear', 'Right'])"
   ]
  },
  {
   "cell_type": "code",
   "execution_count": 143,
   "metadata": {
    "collapsed": false
   },
   "outputs": [],
   "source": [
    "sub=pd.concat([test_data['Id'],sub],axis=1)"
   ]
  },
  {
   "cell_type": "code",
   "execution_count": 144,
   "metadata": {
    "collapsed": true
   },
   "outputs": [],
   "source": [
    "sub.to_csv(path+'subm12xgb.csv',index=False)"
   ]
  },
  {
   "cell_type": "code",
   "execution_count": null,
   "metadata": {
    "collapsed": true
   },
   "outputs": [],
   "source": []
  }
 ],
 "metadata": {
  "kernelspec": {
   "display_name": "Python [Root]",
   "language": "python",
   "name": "Python [Root]"
  },
  "language_info": {
   "codemirror_mode": {
    "name": "ipython",
    "version": 2
   },
   "file_extension": ".py",
   "mimetype": "text/x-python",
   "name": "python",
   "nbconvert_exporter": "python",
   "pygments_lexer": "ipython2",
   "version": "2.7.12"
  }
 },
 "nbformat": 4,
 "nbformat_minor": 2
}
