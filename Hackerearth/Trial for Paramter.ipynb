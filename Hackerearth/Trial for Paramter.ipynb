{
 "cells": [
  {
   "cell_type": "code",
   "execution_count": 36,
   "metadata": {
    "collapsed": false
   },
   "outputs": [],
   "source": [
    "import pandas as pd\n",
    "import numpy as np\n",
    "import xgboost as xgb\n",
    "import seaborn as sns\n",
    "%matplotlib inline\n",
    "import matplotlib.pyplot as plt\n",
    "path='C:/Projects/Hackerearth/Problem 2/'\n",
    "from sklearn import cross_validation, metrics   #Additional scklearn functions\n",
    "from sklearn.grid_search import GridSearchCV \n",
    "from sklearn import ensemble,linear_model"
   ]
  },
  {
   "cell_type": "code",
   "execution_count": 37,
   "metadata": {
    "collapsed": false
   },
   "outputs": [],
   "source": [
    "data=pd.read_csv(path+'new_trains.csv')\n",
    "test_data=pd.read_csv(path+'new_test.csv')"
   ]
  },
  {
   "cell_type": "code",
   "execution_count": 38,
   "metadata": {
    "collapsed": false
   },
   "outputs": [
    {
     "data": {
      "text/plain": [
       "((200000, 210), (100000, 209))"
      ]
     },
     "execution_count": 38,
     "metadata": {},
     "output_type": "execute_result"
    }
   ],
   "source": [
    "data.shape,test_data.shape"
   ]
  },
  {
   "cell_type": "code",
   "execution_count": 39,
   "metadata": {
    "collapsed": false
   },
   "outputs": [
    {
     "data": {
      "text/html": [
       "<div>\n",
       "<table border=\"1\" class=\"dataframe\">\n",
       "  <thead>\n",
       "    <tr style=\"text-align: right;\">\n",
       "      <th></th>\n",
       "      <th>segment</th>\n",
       "      <th>no_of_Cities</th>\n",
       "      <th>no_of_dow</th>\n",
       "      <th>no_of_tod</th>\n",
       "      <th>no_of_genre</th>\n",
       "      <th>no_of_title</th>\n",
       "      <th>total_time_spent</th>\n",
       "      <th>dow_1</th>\n",
       "      <th>dow_1_percent</th>\n",
       "      <th>dow_2</th>\n",
       "      <th>...</th>\n",
       "      <th>genres_Swimming_present</th>\n",
       "      <th>genres_Formula1_present</th>\n",
       "      <th>genres_Family_present</th>\n",
       "      <th>genres_Badminton_present</th>\n",
       "      <th>genres_Sport_present</th>\n",
       "      <th>average_per_day</th>\n",
       "      <th>average_per_city</th>\n",
       "      <th>average_per_time</th>\n",
       "      <th>average_per_title</th>\n",
       "      <th>average_per_genre</th>\n",
       "    </tr>\n",
       "  </thead>\n",
       "  <tbody>\n",
       "    <tr>\n",
       "      <th>0</th>\n",
       "      <td>0.0</td>\n",
       "      <td>2</td>\n",
       "      <td>7</td>\n",
       "      <td>14</td>\n",
       "      <td>3</td>\n",
       "      <td>60</td>\n",
       "      <td>87386</td>\n",
       "      <td>3412</td>\n",
       "      <td>0.039045</td>\n",
       "      <td>1737</td>\n",
       "      <td>...</td>\n",
       "      <td>0</td>\n",
       "      <td>0</td>\n",
       "      <td>0</td>\n",
       "      <td>0</td>\n",
       "      <td>0</td>\n",
       "      <td>12483.714286</td>\n",
       "      <td>43693.000000</td>\n",
       "      <td>6241.857143</td>\n",
       "      <td>1456.433333</td>\n",
       "      <td>29128.666667</td>\n",
       "    </tr>\n",
       "    <tr>\n",
       "      <th>1</th>\n",
       "      <td>0.0</td>\n",
       "      <td>3</td>\n",
       "      <td>7</td>\n",
       "      <td>16</td>\n",
       "      <td>2</td>\n",
       "      <td>70</td>\n",
       "      <td>16371</td>\n",
       "      <td>5745</td>\n",
       "      <td>0.350925</td>\n",
       "      <td>3346</td>\n",
       "      <td>...</td>\n",
       "      <td>0</td>\n",
       "      <td>0</td>\n",
       "      <td>0</td>\n",
       "      <td>0</td>\n",
       "      <td>0</td>\n",
       "      <td>2338.714286</td>\n",
       "      <td>5457.000000</td>\n",
       "      <td>1023.187500</td>\n",
       "      <td>233.871429</td>\n",
       "      <td>8185.500000</td>\n",
       "    </tr>\n",
       "    <tr>\n",
       "      <th>2</th>\n",
       "      <td>0.0</td>\n",
       "      <td>1</td>\n",
       "      <td>1</td>\n",
       "      <td>3</td>\n",
       "      <td>2</td>\n",
       "      <td>2</td>\n",
       "      <td>4142</td>\n",
       "      <td>0</td>\n",
       "      <td>0.000000</td>\n",
       "      <td>0</td>\n",
       "      <td>...</td>\n",
       "      <td>0</td>\n",
       "      <td>0</td>\n",
       "      <td>0</td>\n",
       "      <td>0</td>\n",
       "      <td>0</td>\n",
       "      <td>4142.000000</td>\n",
       "      <td>4142.000000</td>\n",
       "      <td>1380.666667</td>\n",
       "      <td>2071.000000</td>\n",
       "      <td>2071.000000</td>\n",
       "    </tr>\n",
       "    <tr>\n",
       "      <th>3</th>\n",
       "      <td>0.0</td>\n",
       "      <td>3</td>\n",
       "      <td>5</td>\n",
       "      <td>6</td>\n",
       "      <td>2</td>\n",
       "      <td>8</td>\n",
       "      <td>8348</td>\n",
       "      <td>658</td>\n",
       "      <td>0.078821</td>\n",
       "      <td>0</td>\n",
       "      <td>...</td>\n",
       "      <td>0</td>\n",
       "      <td>0</td>\n",
       "      <td>0</td>\n",
       "      <td>0</td>\n",
       "      <td>0</td>\n",
       "      <td>1669.600000</td>\n",
       "      <td>2782.666667</td>\n",
       "      <td>1391.333333</td>\n",
       "      <td>1043.500000</td>\n",
       "      <td>4174.000000</td>\n",
       "    </tr>\n",
       "    <tr>\n",
       "      <th>4</th>\n",
       "      <td>0.0</td>\n",
       "      <td>2</td>\n",
       "      <td>5</td>\n",
       "      <td>9</td>\n",
       "      <td>3</td>\n",
       "      <td>11</td>\n",
       "      <td>10132</td>\n",
       "      <td>1641</td>\n",
       "      <td>0.161962</td>\n",
       "      <td>480</td>\n",
       "      <td>...</td>\n",
       "      <td>0</td>\n",
       "      <td>0</td>\n",
       "      <td>0</td>\n",
       "      <td>0</td>\n",
       "      <td>0</td>\n",
       "      <td>2026.400000</td>\n",
       "      <td>5066.000000</td>\n",
       "      <td>1125.777778</td>\n",
       "      <td>921.090909</td>\n",
       "      <td>3377.333333</td>\n",
       "    </tr>\n",
       "  </tbody>\n",
       "</table>\n",
       "<p>5 rows × 210 columns</p>\n",
       "</div>"
      ],
      "text/plain": [
       "   segment  no_of_Cities  no_of_dow  no_of_tod  no_of_genre  no_of_title  \\\n",
       "0      0.0             2          7         14            3           60   \n",
       "1      0.0             3          7         16            2           70   \n",
       "2      0.0             1          1          3            2            2   \n",
       "3      0.0             3          5          6            2            8   \n",
       "4      0.0             2          5          9            3           11   \n",
       "\n",
       "   total_time_spent  dow_1  dow_1_percent  dow_2        ...          \\\n",
       "0             87386   3412       0.039045   1737        ...           \n",
       "1             16371   5745       0.350925   3346        ...           \n",
       "2              4142      0       0.000000      0        ...           \n",
       "3              8348    658       0.078821      0        ...           \n",
       "4             10132   1641       0.161962    480        ...           \n",
       "\n",
       "   genres_Swimming_present  genres_Formula1_present  genres_Family_present  \\\n",
       "0                        0                        0                      0   \n",
       "1                        0                        0                      0   \n",
       "2                        0                        0                      0   \n",
       "3                        0                        0                      0   \n",
       "4                        0                        0                      0   \n",
       "\n",
       "   genres_Badminton_present  genres_Sport_present  average_per_day  \\\n",
       "0                         0                     0     12483.714286   \n",
       "1                         0                     0      2338.714286   \n",
       "2                         0                     0      4142.000000   \n",
       "3                         0                     0      1669.600000   \n",
       "4                         0                     0      2026.400000   \n",
       "\n",
       "   average_per_city  average_per_time  average_per_title  average_per_genre  \n",
       "0      43693.000000       6241.857143        1456.433333       29128.666667  \n",
       "1       5457.000000       1023.187500         233.871429        8185.500000  \n",
       "2       4142.000000       1380.666667        2071.000000        2071.000000  \n",
       "3       2782.666667       1391.333333        1043.500000        4174.000000  \n",
       "4       5066.000000       1125.777778         921.090909        3377.333333  \n",
       "\n",
       "[5 rows x 210 columns]"
      ]
     },
     "execution_count": 39,
     "metadata": {},
     "output_type": "execute_result"
    }
   ],
   "source": [
    "data.head()"
   ]
  },
  {
   "cell_type": "code",
   "execution_count": 40,
   "metadata": {
    "collapsed": true
   },
   "outputs": [],
   "source": [
    "data_copy=data.copy()"
   ]
  },
  {
   "cell_type": "code",
   "execution_count": 41,
   "metadata": {
    "collapsed": true
   },
   "outputs": [],
   "source": [
    "del data_copy['segment']"
   ]
  },
  {
   "cell_type": "code",
   "execution_count": 42,
   "metadata": {
    "collapsed": true
   },
   "outputs": [],
   "source": [
    "target=data['segment']"
   ]
  },
  {
   "cell_type": "code",
   "execution_count": 43,
   "metadata": {
    "collapsed": true
   },
   "outputs": [],
   "source": [
    "from sklearn import cross_validation"
   ]
  },
  {
   "cell_type": "code",
   "execution_count": 44,
   "metadata": {
    "collapsed": false
   },
   "outputs": [
    {
     "data": {
      "text/plain": [
       "((140000, 209), (140000L,), (60000, 209), (60000L,))"
      ]
     },
     "execution_count": 44,
     "metadata": {},
     "output_type": "execute_result"
    }
   ],
   "source": [
    "tainX,testX,train_y,testy=cross_validation.train_test_split(data_copy,target,test_size=.3)\n",
    "tainX.shape,train_y.shape,testX.shape,testy.shape"
   ]
  },
  {
   "cell_type": "code",
   "execution_count": 45,
   "metadata": {
    "collapsed": true
   },
   "outputs": [],
   "source": [
    "train_batch=xgb.DMatrix( tainX, label=train_y)\n",
    "val_batch=xgb.DMatrix( testX, label=testy)"
   ]
  },
  {
   "cell_type": "code",
   "execution_count": null,
   "metadata": {
    "collapsed": false,
    "scrolled": true
   },
   "outputs": [],
   "source": [
    "param = {'max_depth':2, 'eta':1, 'silent':1, 'objective':'binary:logistic','eval_metric':'auc' }\n",
    "watchlist  = [ (train_batch,'train'),(val_batch,'eval')]\n",
    "model = xgb.train(param, train_batch, num_rounds,watchlist,early_stopping_rounds=50) "
   ]
  },
  {
   "cell_type": "code",
   "execution_count": 13,
   "metadata": {
    "collapsed": false
   },
   "outputs": [
    {
     "data": {
      "text/plain": [
       "([mean: 0.81220, std: 0.00279, params: {'max_depth': 6, 'min_child_weight': 1},\n",
       "  mean: 0.81175, std: 0.00236, params: {'max_depth': 6, 'min_child_weight': 3},\n",
       "  mean: 0.81208, std: 0.00231, params: {'max_depth': 6, 'min_child_weight': 5},\n",
       "  mean: 0.80836, std: 0.00247, params: {'max_depth': 8, 'min_child_weight': 1},\n",
       "  mean: 0.80892, std: 0.00249, params: {'max_depth': 8, 'min_child_weight': 3},\n",
       "  mean: 0.80957, std: 0.00251, params: {'max_depth': 8, 'min_child_weight': 5}],\n",
       " {'max_depth': 6, 'min_child_weight': 1},\n",
       " 0.8121988086317524)"
      ]
     },
     "execution_count": 13,
     "metadata": {},
     "output_type": "execute_result"
    }
   ],
   "source": [
    "param_test1 = {\n",
    " 'max_depth':range(6,10,2),\n",
    " 'min_child_weight':range(1,6,2)\n",
    "}\n",
    "gsearch1 = GridSearchCV(estimator = xgb.XGBClassifier( learning_rate =0.1, n_estimators=140, max_depth=5,\n",
    " min_child_weight=1, gamma=0, subsample=0.8, colsample_bytree=0.8,\n",
    " objective= 'binary:logistic', nthread=4, scale_pos_weight=1, seed=27), \n",
    " param_grid = param_test1, scoring='roc_auc',n_jobs=4,iid=False, cv=5)\n",
    "gsearch1.fit(tainX,train_y)\n",
    "gsearch1.grid_scores_, gsearch1.best_params_, gsearch1.best_score_"
   ]
  },
  {
   "cell_type": "code",
   "execution_count": 15,
   "metadata": {
    "collapsed": false
   },
   "outputs": [
    {
     "data": {
      "text/plain": [
       "([mean: 0.81220, std: 0.00279, params: {'gamma': 0.0},\n",
       "  mean: 0.81218, std: 0.00233, params: {'gamma': 0.1},\n",
       "  mean: 0.81209, std: 0.00199, params: {'gamma': 0.2},\n",
       "  mean: 0.81182, std: 0.00255, params: {'gamma': 0.3},\n",
       "  mean: 0.81180, std: 0.00255, params: {'gamma': 0.4}],\n",
       " {'gamma': 0.0},\n",
       " 0.8121988086317524)"
      ]
     },
     "execution_count": 15,
     "metadata": {},
     "output_type": "execute_result"
    }
   ],
   "source": [
    "param_test3 = {\n",
    " 'gamma':[i/10.0 for i in range(0,5)]\n",
    "}\n",
    "gsearch3 = GridSearchCV(estimator = xgb.XGBClassifier( learning_rate =0.1, n_estimators=140, max_depth=6,\n",
    " min_child_weight=1, gamma=0, subsample=0.8, colsample_bytree=0.8,\n",
    " objective= 'binary:logistic', nthread=4, scale_pos_weight=1,seed=27), \n",
    " param_grid = param_test3, scoring='roc_auc',n_jobs=4,iid=False, cv=5)\n",
    "gsearch3.fit(tainX,train_y)\n",
    "gsearch3.grid_scores_, gsearch3.best_params_, gsearch3.best_score_"
   ]
  },
  {
   "cell_type": "code",
   "execution_count": 28,
   "metadata": {
    "collapsed": true
   },
   "outputs": [],
   "source": [
    "num_rounds=500"
   ]
  },
  {
   "cell_type": "code",
   "execution_count": 29,
   "metadata": {
    "collapsed": false,
    "scrolled": true
   },
   "outputs": [
    {
     "name": "stdout",
     "output_type": "stream",
     "text": [
      "[0]\ttrain-auc:0.798672\teval-auc:0.786935\n",
      "Multiple eval metrics have been passed: 'eval-auc' will be used for early stopping.\n",
      "\n",
      "Will train until eval-auc hasn't improved in 50 rounds.\n",
      "[1]\ttrain-auc:0.805315\teval-auc:0.790946\n",
      "[2]\ttrain-auc:0.811007\teval-auc:0.79578\n",
      "[3]\ttrain-auc:0.812537\teval-auc:0.796701\n",
      "[4]\ttrain-auc:0.81419\teval-auc:0.797645\n",
      "[5]\ttrain-auc:0.814959\teval-auc:0.798619\n",
      "[6]\ttrain-auc:0.815587\teval-auc:0.799347\n",
      "[7]\ttrain-auc:0.815781\teval-auc:0.799687\n",
      "[8]\ttrain-auc:0.816468\teval-auc:0.800191\n",
      "[9]\ttrain-auc:0.816938\teval-auc:0.800701\n",
      "[10]\ttrain-auc:0.817362\teval-auc:0.801144\n",
      "[11]\ttrain-auc:0.818023\teval-auc:0.80162\n",
      "[12]\ttrain-auc:0.818572\teval-auc:0.801963\n",
      "[13]\ttrain-auc:0.819633\teval-auc:0.802443\n",
      "[14]\ttrain-auc:0.820267\teval-auc:0.802745\n",
      "[15]\ttrain-auc:0.821069\teval-auc:0.803109\n",
      "[16]\ttrain-auc:0.821846\teval-auc:0.803304\n",
      "[17]\ttrain-auc:0.822569\teval-auc:0.803792\n",
      "[18]\ttrain-auc:0.823199\teval-auc:0.803887\n",
      "[19]\ttrain-auc:0.823834\teval-auc:0.803893\n",
      "[20]\ttrain-auc:0.824721\teval-auc:0.804278\n",
      "[21]\ttrain-auc:0.825358\teval-auc:0.80474\n",
      "[22]\ttrain-auc:0.826102\teval-auc:0.80477\n",
      "[23]\ttrain-auc:0.826818\teval-auc:0.804785\n",
      "[24]\ttrain-auc:0.827401\teval-auc:0.804974\n",
      "[25]\ttrain-auc:0.827958\teval-auc:0.805125\n",
      "[26]\ttrain-auc:0.828779\teval-auc:0.805453\n",
      "[27]\ttrain-auc:0.829404\teval-auc:0.805438\n",
      "[28]\ttrain-auc:0.829964\teval-auc:0.80539\n",
      "[29]\ttrain-auc:0.830655\teval-auc:0.805681\n",
      "[30]\ttrain-auc:0.831271\teval-auc:0.80592\n",
      "[31]\ttrain-auc:0.831935\teval-auc:0.806417\n",
      "[32]\ttrain-auc:0.832489\teval-auc:0.806624\n",
      "[33]\ttrain-auc:0.832833\teval-auc:0.806688\n",
      "[34]\ttrain-auc:0.833425\teval-auc:0.806706\n",
      "[35]\ttrain-auc:0.834067\teval-auc:0.806976\n",
      "[36]\ttrain-auc:0.834814\teval-auc:0.807221\n",
      "[37]\ttrain-auc:0.835449\teval-auc:0.807447\n",
      "[38]\ttrain-auc:0.836095\teval-auc:0.807586\n",
      "[39]\ttrain-auc:0.836619\teval-auc:0.807799\n",
      "[40]\ttrain-auc:0.837193\teval-auc:0.80783\n",
      "[41]\ttrain-auc:0.837777\teval-auc:0.808014\n",
      "[42]\ttrain-auc:0.838293\teval-auc:0.807995\n",
      "[43]\ttrain-auc:0.838859\teval-auc:0.80833\n",
      "[44]\ttrain-auc:0.839354\teval-auc:0.808481\n",
      "[45]\ttrain-auc:0.839725\teval-auc:0.808617\n",
      "[46]\ttrain-auc:0.84034\teval-auc:0.808569\n",
      "[47]\ttrain-auc:0.840901\teval-auc:0.808587\n",
      "[48]\ttrain-auc:0.841608\teval-auc:0.808679\n",
      "[49]\ttrain-auc:0.841947\teval-auc:0.80874\n",
      "[50]\ttrain-auc:0.842665\teval-auc:0.808731\n",
      "[51]\ttrain-auc:0.843139\teval-auc:0.808798\n",
      "[52]\ttrain-auc:0.843838\teval-auc:0.809002\n",
      "[53]\ttrain-auc:0.844424\teval-auc:0.8092\n",
      "[54]\ttrain-auc:0.844819\teval-auc:0.809309\n",
      "[55]\ttrain-auc:0.845394\teval-auc:0.809398\n",
      "[56]\ttrain-auc:0.845713\teval-auc:0.80946\n",
      "[57]\ttrain-auc:0.846025\teval-auc:0.809459\n",
      "[58]\ttrain-auc:0.846293\teval-auc:0.809529\n",
      "[59]\ttrain-auc:0.846899\teval-auc:0.809537\n",
      "[60]\ttrain-auc:0.84762\teval-auc:0.809485\n",
      "[61]\ttrain-auc:0.848015\teval-auc:0.80952\n",
      "[62]\ttrain-auc:0.8484\teval-auc:0.809546\n",
      "[63]\ttrain-auc:0.848559\teval-auc:0.809585\n",
      "[64]\ttrain-auc:0.848907\teval-auc:0.809548\n",
      "[65]\ttrain-auc:0.849373\teval-auc:0.809519\n",
      "[66]\ttrain-auc:0.849847\teval-auc:0.80949\n",
      "[67]\ttrain-auc:0.850084\teval-auc:0.809492\n",
      "[68]\ttrain-auc:0.850363\teval-auc:0.809543\n",
      "[69]\ttrain-auc:0.850807\teval-auc:0.809589\n",
      "[70]\ttrain-auc:0.8512\teval-auc:0.809599\n",
      "[71]\ttrain-auc:0.851548\teval-auc:0.809589\n",
      "[72]\ttrain-auc:0.851979\teval-auc:0.809595\n",
      "[73]\ttrain-auc:0.852298\teval-auc:0.80959\n",
      "[74]\ttrain-auc:0.852759\teval-auc:0.809687\n",
      "[75]\ttrain-auc:0.853233\teval-auc:0.809598\n",
      "[76]\ttrain-auc:0.853433\teval-auc:0.809547\n",
      "[77]\ttrain-auc:0.853779\teval-auc:0.809533\n",
      "[78]\ttrain-auc:0.85435\teval-auc:0.809553\n",
      "[79]\ttrain-auc:0.854608\teval-auc:0.809553\n",
      "[80]\ttrain-auc:0.854798\teval-auc:0.809531\n",
      "[81]\ttrain-auc:0.855097\teval-auc:0.809586\n",
      "[82]\ttrain-auc:0.855554\teval-auc:0.809585\n",
      "[83]\ttrain-auc:0.855823\teval-auc:0.809633\n",
      "[84]\ttrain-auc:0.856198\teval-auc:0.809586\n",
      "[85]\ttrain-auc:0.856665\teval-auc:0.80959\n",
      "[86]\ttrain-auc:0.857073\teval-auc:0.809556\n",
      "[87]\ttrain-auc:0.857521\teval-auc:0.809514\n",
      "[88]\ttrain-auc:0.857632\teval-auc:0.809501\n",
      "[89]\ttrain-auc:0.857908\teval-auc:0.809492\n",
      "[90]\ttrain-auc:0.858329\teval-auc:0.809489\n",
      "[91]\ttrain-auc:0.858583\teval-auc:0.809519\n",
      "[92]\ttrain-auc:0.858942\teval-auc:0.809546\n",
      "[93]\ttrain-auc:0.859161\teval-auc:0.809526\n",
      "[94]\ttrain-auc:0.859378\teval-auc:0.809511\n",
      "[95]\ttrain-auc:0.85964\teval-auc:0.809447\n",
      "[96]\ttrain-auc:0.859871\teval-auc:0.809369\n",
      "[97]\ttrain-auc:0.860242\teval-auc:0.809439\n",
      "[98]\ttrain-auc:0.860494\teval-auc:0.809448\n",
      "[99]\ttrain-auc:0.860768\teval-auc:0.809435\n",
      "[100]\ttrain-auc:0.861143\teval-auc:0.809396\n",
      "[101]\ttrain-auc:0.861582\teval-auc:0.809347\n",
      "[102]\ttrain-auc:0.86201\teval-auc:0.809382\n",
      "[103]\ttrain-auc:0.862486\teval-auc:0.809395\n",
      "[104]\ttrain-auc:0.862913\teval-auc:0.809408\n",
      "[105]\ttrain-auc:0.86342\teval-auc:0.809443\n",
      "[106]\ttrain-auc:0.86379\teval-auc:0.809441\n",
      "[107]\ttrain-auc:0.864113\teval-auc:0.809401\n",
      "[108]\ttrain-auc:0.864392\teval-auc:0.809311\n",
      "[109]\ttrain-auc:0.864903\teval-auc:0.809317\n",
      "[110]\ttrain-auc:0.865183\teval-auc:0.809311\n",
      "[111]\ttrain-auc:0.865517\teval-auc:0.809372\n",
      "[112]\ttrain-auc:0.865903\teval-auc:0.809399\n",
      "[113]\ttrain-auc:0.866057\teval-auc:0.809408\n",
      "[114]\ttrain-auc:0.866301\teval-auc:0.809374\n",
      "[115]\ttrain-auc:0.866533\teval-auc:0.809318\n",
      "[116]\ttrain-auc:0.866929\teval-auc:0.809281\n",
      "[117]\ttrain-auc:0.867202\teval-auc:0.809285\n",
      "[118]\ttrain-auc:0.867612\teval-auc:0.809272\n",
      "[119]\ttrain-auc:0.867694\teval-auc:0.809225\n",
      "[120]\ttrain-auc:0.867905\teval-auc:0.809243\n",
      "[121]\ttrain-auc:0.868104\teval-auc:0.809221\n",
      "[122]\ttrain-auc:0.868373\teval-auc:0.809206\n",
      "[123]\ttrain-auc:0.868664\teval-auc:0.809208\n",
      "[124]\ttrain-auc:0.868819\teval-auc:0.809219\n",
      "Stopping. Best iteration:\n",
      "[74]\ttrain-auc:0.852759\teval-auc:0.809687\n",
      "\n"
     ]
    }
   ],
   "source": [
    "param = {'max_depth':2, 'eta':1, 'silent':1, 'objective':'binary:logistic','eval_metric':'auc',\n",
    "        'learning_rate' :0.1, 'n_estimators':140, 'max_depth':6,\n",
    " 'min_child_weight':1, 'gamma':0, 'subsample':0.8, 'colsample_bytree':0.8,\n",
    " 'objective': 'binary:logistic', 'nthread':4, 'scale_pos_weight':1,'seed':27}\n",
    "watchlist  = [ (train_batch,'train'),(val_batch,'eval')]\n",
    "model = xgb.train(param, train_batch, num_rounds,watchlist,early_stopping_rounds=50) "
   ]
  },
  {
   "cell_type": "code",
   "execution_count": null,
   "metadata": {
    "collapsed": true
   },
   "outputs": [],
   "source": []
  },
  {
   "cell_type": "code",
   "execution_count": 30,
   "metadata": {
    "collapsed": false,
    "scrolled": true
   },
   "outputs": [
    {
     "name": "stdout",
     "output_type": "stream",
     "text": [
      "[0]\ttrain-auc:0.798672\teval-auc:0.786935\n",
      "Multiple eval metrics have been passed: 'eval-auc' will be used for early stopping.\n",
      "\n",
      "Will train until eval-auc hasn't improved in 50 rounds.\n",
      "[1]\ttrain-auc:0.805315\teval-auc:0.790946\n",
      "[2]\ttrain-auc:0.811007\teval-auc:0.79578\n",
      "[3]\ttrain-auc:0.812537\teval-auc:0.796701\n",
      "[4]\ttrain-auc:0.81419\teval-auc:0.797645\n",
      "[5]\ttrain-auc:0.814959\teval-auc:0.798619\n",
      "[6]\ttrain-auc:0.815587\teval-auc:0.799347\n",
      "[7]\ttrain-auc:0.815781\teval-auc:0.799687\n",
      "[8]\ttrain-auc:0.816468\teval-auc:0.800191\n",
      "[9]\ttrain-auc:0.816938\teval-auc:0.800701\n",
      "[10]\ttrain-auc:0.817362\teval-auc:0.801144\n",
      "[11]\ttrain-auc:0.818023\teval-auc:0.80162\n",
      "[12]\ttrain-auc:0.818572\teval-auc:0.801963\n",
      "[13]\ttrain-auc:0.819633\teval-auc:0.802443\n",
      "[14]\ttrain-auc:0.820267\teval-auc:0.802745\n",
      "[15]\ttrain-auc:0.821069\teval-auc:0.803109\n",
      "[16]\ttrain-auc:0.821846\teval-auc:0.803304\n",
      "[17]\ttrain-auc:0.822569\teval-auc:0.803792\n",
      "[18]\ttrain-auc:0.823199\teval-auc:0.803887\n",
      "[19]\ttrain-auc:0.823834\teval-auc:0.803893\n",
      "[20]\ttrain-auc:0.824721\teval-auc:0.804278\n",
      "[21]\ttrain-auc:0.825358\teval-auc:0.80474\n",
      "[22]\ttrain-auc:0.826102\teval-auc:0.80477\n",
      "[23]\ttrain-auc:0.826818\teval-auc:0.804785\n",
      "[24]\ttrain-auc:0.827401\teval-auc:0.804974\n",
      "[25]\ttrain-auc:0.827958\teval-auc:0.805125\n",
      "[26]\ttrain-auc:0.828779\teval-auc:0.805453\n",
      "[27]\ttrain-auc:0.829404\teval-auc:0.805438\n",
      "[28]\ttrain-auc:0.829964\teval-auc:0.80539\n",
      "[29]\ttrain-auc:0.830655\teval-auc:0.805681\n",
      "[30]\ttrain-auc:0.831271\teval-auc:0.80592\n",
      "[31]\ttrain-auc:0.831935\teval-auc:0.806417\n",
      "[32]\ttrain-auc:0.832489\teval-auc:0.806624\n",
      "[33]\ttrain-auc:0.832833\teval-auc:0.806688\n",
      "[34]\ttrain-auc:0.833425\teval-auc:0.806706\n",
      "[35]\ttrain-auc:0.834067\teval-auc:0.806976\n",
      "[36]\ttrain-auc:0.834814\teval-auc:0.807221\n",
      "[37]\ttrain-auc:0.835449\teval-auc:0.807447\n",
      "[38]\ttrain-auc:0.836095\teval-auc:0.807586\n",
      "[39]\ttrain-auc:0.836619\teval-auc:0.807799\n",
      "[40]\ttrain-auc:0.837193\teval-auc:0.80783\n",
      "[41]\ttrain-auc:0.837777\teval-auc:0.808014\n",
      "[42]\ttrain-auc:0.838293\teval-auc:0.807995\n",
      "[43]\ttrain-auc:0.838859\teval-auc:0.80833\n",
      "[44]\ttrain-auc:0.839354\teval-auc:0.808481\n",
      "[45]\ttrain-auc:0.839725\teval-auc:0.808617\n",
      "[46]\ttrain-auc:0.84034\teval-auc:0.808569\n",
      "[47]\ttrain-auc:0.840901\teval-auc:0.808587\n",
      "[48]\ttrain-auc:0.841608\teval-auc:0.808679\n",
      "[49]\ttrain-auc:0.841947\teval-auc:0.80874\n",
      "[50]\ttrain-auc:0.842665\teval-auc:0.808731\n",
      "[51]\ttrain-auc:0.843139\teval-auc:0.808798\n",
      "[52]\ttrain-auc:0.843838\teval-auc:0.809002\n",
      "[53]\ttrain-auc:0.844424\teval-auc:0.8092\n",
      "[54]\ttrain-auc:0.844819\teval-auc:0.809309\n",
      "[55]\ttrain-auc:0.845394\teval-auc:0.809398\n",
      "[56]\ttrain-auc:0.845713\teval-auc:0.80946\n",
      "[57]\ttrain-auc:0.846025\teval-auc:0.809459\n",
      "[58]\ttrain-auc:0.846293\teval-auc:0.809529\n",
      "[59]\ttrain-auc:0.846899\teval-auc:0.809537\n",
      "[60]\ttrain-auc:0.84762\teval-auc:0.809485\n",
      "[61]\ttrain-auc:0.848015\teval-auc:0.80952\n",
      "[62]\ttrain-auc:0.8484\teval-auc:0.809546\n",
      "[63]\ttrain-auc:0.848559\teval-auc:0.809585\n",
      "[64]\ttrain-auc:0.848907\teval-auc:0.809548\n",
      "[65]\ttrain-auc:0.849373\teval-auc:0.809519\n",
      "[66]\ttrain-auc:0.849847\teval-auc:0.80949\n",
      "[67]\ttrain-auc:0.850084\teval-auc:0.809492\n",
      "[68]\ttrain-auc:0.850363\teval-auc:0.809543\n",
      "[69]\ttrain-auc:0.850807\teval-auc:0.809589\n",
      "[70]\ttrain-auc:0.8512\teval-auc:0.809599\n",
      "[71]\ttrain-auc:0.851548\teval-auc:0.809589\n",
      "[72]\ttrain-auc:0.851979\teval-auc:0.809595\n",
      "[73]\ttrain-auc:0.852298\teval-auc:0.80959\n"
     ]
    }
   ],
   "source": [
    "model = xgb.train(param, train_batch, 74,watchlist,early_stopping_rounds=50) "
   ]
  },
  {
   "cell_type": "code",
   "execution_count": 32,
   "metadata": {
    "collapsed": false
   },
   "outputs": [],
   "source": [
    "ped2=model.predict(val_batch)"
   ]
  },
  {
   "cell_type": "code",
   "execution_count": 33,
   "metadata": {
    "collapsed": false
   },
   "outputs": [
    {
     "data": {
      "text/plain": [
       "array([ 0.01060944,  0.01228522,  0.01565886, ...,  0.00695435,\n",
       "        0.13187721,  0.02882161], dtype=float32)"
      ]
     },
     "execution_count": 33,
     "metadata": {},
     "output_type": "execute_result"
    }
   ],
   "source": [
    "ped2"
   ]
  },
  {
   "cell_type": "code",
   "execution_count": 34,
   "metadata": {
    "collapsed": true
   },
   "outputs": [],
   "source": [
    "from sklearn import metrics"
   ]
  },
  {
   "cell_type": "code",
   "execution_count": 35,
   "metadata": {
    "collapsed": false
   },
   "outputs": [
    {
     "data": {
      "text/plain": [
       "0.80959007437595554"
      ]
     },
     "execution_count": 35,
     "metadata": {},
     "output_type": "execute_result"
    }
   ],
   "source": [
    "metrics.roc_auc_score(testy,ped2)"
   ]
  },
  {
   "cell_type": "code",
   "execution_count": null,
   "metadata": {
    "collapsed": false
   },
   "outputs": [],
   "source": [
    "pred=xgb1.predict_proba(testX.values)"
   ]
  },
  {
   "cell_type": "code",
   "execution_count": null,
   "metadata": {
    "collapsed": false
   },
   "outputs": [],
   "source": [
    "lala=pd.read_csv('prob2xgb.csv')"
   ]
  },
  {
   "cell_type": "code",
   "execution_count": null,
   "metadata": {
    "collapsed": true
   },
   "outputs": [],
   "source": [
    "sub=pd.concat([lala['ID'],pd.DataFrame(pred[::,1])],axis=1)\n",
    "sub.columns=['ID','segment']\n",
    "sub.to_csv('xgbcv5.csv',index=False)"
   ]
  },
  {
   "cell_type": "code",
   "execution_count": null,
   "metadata": {
    "collapsed": true
   },
   "outputs": [],
   "source": []
  }
 ],
 "metadata": {
  "kernelspec": {
   "display_name": "Python [Root]",
   "language": "python",
   "name": "Python [Root]"
  },
  "language_info": {
   "codemirror_mode": {
    "name": "ipython",
    "version": 2
   },
   "file_extension": ".py",
   "mimetype": "text/x-python",
   "name": "python",
   "nbconvert_exporter": "python",
   "pygments_lexer": "ipython2",
   "version": "2.7.12"
  }
 },
 "nbformat": 4,
 "nbformat_minor": 2
}
