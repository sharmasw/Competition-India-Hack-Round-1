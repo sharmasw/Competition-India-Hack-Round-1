{
 "cells": [
  {
   "cell_type": "code",
   "execution_count": 1,
   "metadata": {
    "collapsed": false
   },
   "outputs": [
    {
     "name": "stderr",
     "output_type": "stream",
     "text": [
      "C:\\Users\\sharm_000\\Anaconda2\\lib\\site-packages\\sklearn\\cross_validation.py:44: DeprecationWarning: This module was deprecated in version 0.18 in favor of the model_selection module into which all the refactored classes and functions are moved. Also note that the interface of the new CV iterators are different from that of this module. This module will be removed in 0.20.\n",
      "  \"This module will be removed in 0.20.\", DeprecationWarning)\n",
      "C:\\Users\\sharm_000\\Anaconda2\\lib\\site-packages\\sklearn\\grid_search.py:43: DeprecationWarning: This module was deprecated in version 0.18 in favor of the model_selection module into which all the refactored classes and functions are moved. This module will be removed in 0.20.\n",
      "  DeprecationWarning)\n"
     ]
    }
   ],
   "source": [
    "import pandas as pd\n",
    "import numpy as np\n",
    "import xgboost as xgb\n",
    "import seaborn as sns\n",
    "%matplotlib inline\n",
    "import matplotlib.pyplot as plt\n",
    "path='C:/Projects/Hackerearth/Problem 2/'\n",
    "# path=''\n",
    "from sklearn import cross_validation, metrics   #Additional scklearn functions\n",
    "from sklearn.grid_search import GridSearchCV \n",
    "from sklearn import metrics,ensemble,linear_model"
   ]
  },
  {
   "cell_type": "code",
   "execution_count": 2,
   "metadata": {
    "collapsed": false
   },
   "outputs": [
    {
     "data": {
      "text/plain": [
       "(200000, 752)"
      ]
     },
     "execution_count": 2,
     "metadata": {},
     "output_type": "execute_result"
    }
   ],
   "source": [
    "data=pd.read_csv(path+'new_trains.csv')\n",
    "data.shape"
   ]
  },
  {
   "cell_type": "code",
   "execution_count": 3,
   "metadata": {
    "collapsed": false
   },
   "outputs": [],
   "source": [
    "data_copy=data.copy()\n",
    "target=data['segment']\n",
    "del data"
   ]
  },
  {
   "cell_type": "code",
   "execution_count": 4,
   "metadata": {
    "collapsed": true
   },
   "outputs": [],
   "source": [
    "del data_copy['segment']"
   ]
  },
  {
   "cell_type": "code",
   "execution_count": 5,
   "metadata": {
    "collapsed": true
   },
   "outputs": [],
   "source": [
    "train_batch=xgb.DMatrix( data_copy, label=target)"
   ]
  },
  {
   "cell_type": "code",
   "execution_count": 6,
   "metadata": {
    "collapsed": true
   },
   "outputs": [],
   "source": [
    "num_rounds=1000"
   ]
  },
  {
   "cell_type": "code",
   "execution_count": 7,
   "metadata": {
    "collapsed": true
   },
   "outputs": [],
   "source": [
    "Line_model=linear_model.LinearRegression().fit(data_copy,target)"
   ]
  },
  {
   "cell_type": "code",
   "execution_count": 8,
   "metadata": {
    "collapsed": false
   },
   "outputs": [],
   "source": [
    "GBR_model=ensemble.GradientBoostingClassifier().fit( data_copy,target)"
   ]
  },
  {
   "cell_type": "code",
   "execution_count": 10,
   "metadata": {
    "collapsed": false,
    "scrolled": true
   },
   "outputs": [],
   "source": [
    "param = {'max_depth':2, 'eta':1, 'silent':1, 'objective':'binary:logistic','eval_metric':'auc',\n",
    "        'learning_rate' :0.01, 'n_estimators':140, 'max_depth':6,\n",
    " 'min_child_weight':1, 'gamma':0, 'subsample':0.8, 'colsample_bytree':0.8,\n",
    " 'objective': 'binary:logistic', 'nthread':4, 'scale_pos_weight':1,'seed':27}\n",
    "# wathclist=[(val_batch,'eval'), (train_batch,'train')]\n",
    "model = xgb.train(param, train_batch, num_rounds,) "
   ]
  },
  {
   "cell_type": "code",
   "execution_count": 11,
   "metadata": {
    "collapsed": true
   },
   "outputs": [],
   "source": [
    "import pyttsx\n",
    "engine = pyttsx.init()\n",
    "engine.say('Process Completed. Please check.')\n",
    "engine.runAndWait()"
   ]
  },
  {
   "cell_type": "code",
   "execution_count": 12,
   "metadata": {
    "collapsed": true
   },
   "outputs": [],
   "source": [
    "del data_copy\n",
    "del target"
   ]
  },
  {
   "cell_type": "code",
   "execution_count": 13,
   "metadata": {
    "collapsed": true
   },
   "outputs": [],
   "source": [
    "test_data=pd.read_csv(path+'new_test.txt')\n",
    "test_batch=xgb.DMatrix( test_data)"
   ]
  },
  {
   "cell_type": "code",
   "execution_count": 14,
   "metadata": {
    "collapsed": false
   },
   "outputs": [],
   "source": [
    "pred_GBR_model=GBR_model.predict(test_data)\n",
    "pred_Line_model=Line_model.predict(test_data)"
   ]
  },
  {
   "cell_type": "code",
   "execution_count": 15,
   "metadata": {
    "collapsed": true
   },
   "outputs": [],
   "source": [
    "pred=model.predict(test_batch)"
   ]
  },
  {
   "cell_type": "code",
   "execution_count": 16,
   "metadata": {
    "collapsed": false
   },
   "outputs": [
    {
     "data": {
      "text/plain": [
       "((100000L,), (100000L,), (100000L,))"
      ]
     },
     "execution_count": 16,
     "metadata": {},
     "output_type": "execute_result"
    }
   ],
   "source": [
    "pred_GBR_model.shape,pred_Line_model.shape,pred.shape"
   ]
  },
  {
   "cell_type": "code",
   "execution_count": 19,
   "metadata": {
    "collapsed": false
   },
   "outputs": [],
   "source": [
    "final_pred=(pred_GBR_model+pred+pred_Line_model)/3  #.80202  0.81506\n",
    "# metrics.roc_auc_score(y_test,final_pred)\n",
    "lala=pd.read_csv(path+'ghrprob2xgb.csv') \n",
    "sub=pd.concat([lala['ID'],pd.DataFrame(final_pred)],axis=1)\n",
    "sub.columns=['ID','segment']\n",
    "sub.to_csv('xgbcv30.csv',index=False)"
   ]
  },
  {
   "cell_type": "code",
   "execution_count": 20,
   "metadata": {
    "collapsed": false
   },
   "outputs": [],
   "source": [
    "final_pred=(pred+pred_Line_model)/2 #.80192 0.81523\n",
    "lala=pd.read_csv(path+'ghrprob2xgb.csv') \n",
    "sub=pd.concat([lala['ID'],pd.DataFrame(final_pred)],axis=1)\n",
    "sub.columns=['ID','segment']\n",
    "sub.to_csv('xgbcv31.csv',index=False)"
   ]
  },
  {
   "cell_type": "code",
   "execution_count": 21,
   "metadata": {
    "collapsed": false
   },
   "outputs": [],
   "source": [
    "final_pred=(pred_GBR_model+pred)/2  #.80501 0.81452\n",
    "# metrics.roc_auc_score(y_test,final_pred)\n",
    "lala=pd.read_csv(path+'ghrprob2xgb.csv') \n",
    "sub=pd.concat([lala['ID'],pd.DataFrame(final_pred)],axis=1)\n",
    "sub.columns=['ID','segment']\n",
    "sub.to_csv('xgbcv32.csv',index=False)"
   ]
  },
  {
   "cell_type": "code",
   "execution_count": 22,
   "metadata": {
    "collapsed": false
   },
   "outputs": [],
   "source": [
    "final_pred=(pred_GBR_model+pred_Line_model)/2  #.80202   0.81201\n",
    "# metrics.roc_auc_score(y_test,final_pred)\n",
    "lala=pd.read_csv(path+'ghrprob2xgb.csv') \n",
    "sub=pd.concat([lala['ID'],pd.DataFrame(final_pred)],axis=1)\n",
    "sub.columns=['ID','segment']\n",
    "sub.to_csv('xgbcv33.csv',index=False)"
   ]
  },
  {
   "cell_type": "code",
   "execution_count": 23,
   "metadata": {
    "collapsed": false
   },
   "outputs": [],
   "source": [
    "final_pred=(.25*pred_GBR_model+.75*pred)  #.80601   0.81565\n",
    "# metrics.roc_auc_score(y_test,final_pred)\n",
    "lala=pd.read_csv(path+'ghrprob2xgb.csv') \n",
    "sub=pd.concat([lala['ID'],pd.DataFrame(final_pred)],axis=1)\n",
    "sub.columns=['ID','segment']\n",
    "sub.to_csv('xgbcv34.csv',index=False)"
   ]
  },
  {
   "cell_type": "code",
   "execution_count": 24,
   "metadata": {
    "collapsed": false
   },
   "outputs": [],
   "source": [
    "final_pred=(.80*pred+.2*pred_Line_model) #. 80488   0.81690\n",
    "# metrics.roc_auc_score(y_test,final_pred)\n",
    "lala=pd.read_csv(path+'ghrprob2xgb.csv') \n",
    "sub=pd.concat([lala['ID'],pd.DataFrame(final_pred)],axis=1)\n",
    "sub.columns=['ID','segment']\n",
    "sub.to_csv('xgbcv35.csv',index=False)"
   ]
  },
  {
   "cell_type": "code",
   "execution_count": 25,
   "metadata": {
    "collapsed": false
   },
   "outputs": [],
   "source": [
    "final_pred=(.25*pred_GBR_model+.5*pred+.25*pred_Line_model)  #0.80399\n",
    "# metrics.roc_auc_score(y_test,final_pred)\n",
    "lala=pd.read_csv(path+'ghrprob2xgb.csv') \n",
    "sub=pd.concat([lala['ID'],pd.DataFrame(final_pred)],axis=1)\n",
    "sub.columns=['ID','segment']\n",
    "sub.to_csv('xgbcv36.csv',index=False)"
   ]
  },
  {
   "cell_type": "code",
   "execution_count": 26,
   "metadata": {
    "collapsed": false
   },
   "outputs": [],
   "source": [
    "final_pred=(.1*pred_GBR_model+.8*pred+.1*pred_Line_model)  #0.80507   0.81652\n",
    "# metrics.roc_auc_score(y_test,final_pred)  # best 0.82864163072421215\n",
    "\n",
    "lala=pd.read_csv(path+'ghrprob2xgb.csv') \n",
    "sub=pd.concat([lala['ID'],pd.DataFrame(final_pred)],axis=1)\n",
    "sub.columns=['ID','segment']\n",
    "sub.to_csv('xgbcv37.csv',index=False)"
   ]
  },
  {
   "cell_type": "code",
   "execution_count": 27,
   "metadata": {
    "collapsed": true
   },
   "outputs": [],
   "source": [
    "lala=pd.read_csv(path+'ghrprob2xgb.csv') \n",
    "sub=pd.concat([lala['ID'],pd.DataFrame(pred)],axis=1)\n",
    "sub.columns=['ID','segment']\n",
    "sub.to_csv('xgbcv38.csv',index=False)"
   ]
  },
  {
   "cell_type": "code",
   "execution_count": null,
   "metadata": {
    "collapsed": true
   },
   "outputs": [],
   "source": []
  }
 ],
 "metadata": {
  "anaconda-cloud": {},
  "kernelspec": {
   "display_name": "Python [Root]",
   "language": "python",
   "name": "Python [Root]"
  },
  "language_info": {
   "codemirror_mode": {
    "name": "ipython",
    "version": 2
   },
   "file_extension": ".py",
   "mimetype": "text/x-python",
   "name": "python",
   "nbconvert_exporter": "python",
   "pygments_lexer": "ipython2",
   "version": "2.7.12"
  }
 },
 "nbformat": 4,
 "nbformat_minor": 2
}
