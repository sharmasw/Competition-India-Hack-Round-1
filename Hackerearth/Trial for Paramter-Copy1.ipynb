{
 "cells": [
  {
   "cell_type": "code",
   "execution_count": 1,
   "metadata": {
    "collapsed": false
   },
   "outputs": [
    {
     "name": "stderr",
     "output_type": "stream",
     "text": [
      "C:\\Users\\swapnil.sharma\\AppData\\Local\\Continuum\\Anaconda2\\lib\\site-packages\\sklearn\\cross_validation.py:44: DeprecationWarning: This module was deprecated in version 0.18 in favor of the model_selection module into which all the refactored classes and functions are moved. Also note that the interface of the new CV iterators are different from that of this module. This module will be removed in 0.20.\n",
      "  \"This module will be removed in 0.20.\", DeprecationWarning)\n",
      "C:\\Users\\swapnil.sharma\\AppData\\Local\\Continuum\\Anaconda2\\lib\\site-packages\\sklearn\\grid_search.py:43: DeprecationWarning: This module was deprecated in version 0.18 in favor of the model_selection module into which all the refactored classes and functions are moved. This module will be removed in 0.20.\n",
      "  DeprecationWarning)\n"
     ]
    }
   ],
   "source": [
    "import pandas as pd\n",
    "import numpy as np\n",
    "import xgboost as xgb\n",
    "import seaborn as sns\n",
    "%matplotlib inline\n",
    "import matplotlib.pyplot as plt\n",
    "# path='C:/Projects/Hackerearth/Problem 2/'\n",
    "path=''\n",
    "from sklearn import cross_validation, metrics   #Additional scklearn functions\n",
    "from sklearn.grid_search import GridSearchCV \n",
    "from sklearn import metrics,ensemble,linear_model,neighbors"
   ]
  },
  {
   "cell_type": "code",
   "execution_count": 2,
   "metadata": {
    "collapsed": false
   },
   "outputs": [],
   "source": [
    "data=pd.read_csv(path+'new_trains.csv')\n",
    "test_data=pd.read_csv(path+'new_test.csv')"
   ]
  },
  {
   "cell_type": "code",
   "execution_count": 3,
   "metadata": {
    "collapsed": false
   },
   "outputs": [
    {
     "data": {
      "text/plain": [
       "((200000, 521), (100000, 520))"
      ]
     },
     "execution_count": 3,
     "metadata": {},
     "output_type": "execute_result"
    }
   ],
   "source": [
    "data.shape,test_data.shape"
   ]
  },
  {
   "cell_type": "code",
   "execution_count": 4,
   "metadata": {
    "collapsed": false
   },
   "outputs": [
    {
     "data": {
      "text/html": [
       "<div>\n",
       "<style>\n",
       "    .dataframe thead tr:only-child th {\n",
       "        text-align: right;\n",
       "    }\n",
       "\n",
       "    .dataframe thead th {\n",
       "        text-align: left;\n",
       "    }\n",
       "\n",
       "    .dataframe tbody tr th {\n",
       "        vertical-align: top;\n",
       "    }\n",
       "</style>\n",
       "<table border=\"1\" class=\"dataframe\">\n",
       "  <thead>\n",
       "    <tr style=\"text-align: right;\">\n",
       "      <th></th>\n",
       "      <th>segment</th>\n",
       "      <th>no_of_Cities</th>\n",
       "      <th>no_of_dow</th>\n",
       "      <th>no_of_tod</th>\n",
       "      <th>no_of_genre</th>\n",
       "      <th>no_of_title</th>\n",
       "      <th>total_time_spent</th>\n",
       "      <th>dow_1</th>\n",
       "      <th>dow_1_percent</th>\n",
       "      <th>dow_2</th>\n",
       "      <th>...</th>\n",
       "      <th>Jadeja's All-round Show Drives India</th>\n",
       "      <th>Pyar Ka Dard Hai Meetha Meetha Pyara Pyara</th>\n",
       "      <th>Hero</th>\n",
       "      <th>rd TI Kohli Happy with Series WIn</th>\n",
       "      <th>England Have a Warning for Kohli</th>\n",
       "      <th>Dhoni Does It the Mahi Way with</th>\n",
       "      <th>India's Raw Star</th>\n",
       "      <th>LOL! Saha's All Over Smith</th>\n",
       "      <th>Morris's -ball * Deflates RPS</th>\n",
       "      <th>Can't Miss Dhoni Trolls KP</th>\n",
       "    </tr>\n",
       "  </thead>\n",
       "  <tbody>\n",
       "    <tr>\n",
       "      <th>0</th>\n",
       "      <td>0.0</td>\n",
       "      <td>2</td>\n",
       "      <td>7</td>\n",
       "      <td>14</td>\n",
       "      <td>3</td>\n",
       "      <td>60</td>\n",
       "      <td>87386</td>\n",
       "      <td>3412</td>\n",
       "      <td>0.039045</td>\n",
       "      <td>1737</td>\n",
       "      <td>...</td>\n",
       "      <td>0</td>\n",
       "      <td>0</td>\n",
       "      <td>0</td>\n",
       "      <td>0</td>\n",
       "      <td>0</td>\n",
       "      <td>0</td>\n",
       "      <td>0</td>\n",
       "      <td>0</td>\n",
       "      <td>0</td>\n",
       "      <td>0</td>\n",
       "    </tr>\n",
       "    <tr>\n",
       "      <th>1</th>\n",
       "      <td>0.0</td>\n",
       "      <td>3</td>\n",
       "      <td>7</td>\n",
       "      <td>16</td>\n",
       "      <td>2</td>\n",
       "      <td>70</td>\n",
       "      <td>16371</td>\n",
       "      <td>5745</td>\n",
       "      <td>0.350925</td>\n",
       "      <td>3346</td>\n",
       "      <td>...</td>\n",
       "      <td>0</td>\n",
       "      <td>0</td>\n",
       "      <td>0</td>\n",
       "      <td>1</td>\n",
       "      <td>0</td>\n",
       "      <td>0</td>\n",
       "      <td>0</td>\n",
       "      <td>0</td>\n",
       "      <td>0</td>\n",
       "      <td>0</td>\n",
       "    </tr>\n",
       "    <tr>\n",
       "      <th>2</th>\n",
       "      <td>0.0</td>\n",
       "      <td>1</td>\n",
       "      <td>1</td>\n",
       "      <td>3</td>\n",
       "      <td>2</td>\n",
       "      <td>2</td>\n",
       "      <td>4142</td>\n",
       "      <td>0</td>\n",
       "      <td>0.000000</td>\n",
       "      <td>0</td>\n",
       "      <td>...</td>\n",
       "      <td>0</td>\n",
       "      <td>0</td>\n",
       "      <td>0</td>\n",
       "      <td>0</td>\n",
       "      <td>0</td>\n",
       "      <td>0</td>\n",
       "      <td>0</td>\n",
       "      <td>0</td>\n",
       "      <td>0</td>\n",
       "      <td>0</td>\n",
       "    </tr>\n",
       "    <tr>\n",
       "      <th>3</th>\n",
       "      <td>0.0</td>\n",
       "      <td>3</td>\n",
       "      <td>5</td>\n",
       "      <td>6</td>\n",
       "      <td>2</td>\n",
       "      <td>8</td>\n",
       "      <td>8348</td>\n",
       "      <td>658</td>\n",
       "      <td>0.078821</td>\n",
       "      <td>0</td>\n",
       "      <td>...</td>\n",
       "      <td>0</td>\n",
       "      <td>0</td>\n",
       "      <td>0</td>\n",
       "      <td>0</td>\n",
       "      <td>0</td>\n",
       "      <td>0</td>\n",
       "      <td>0</td>\n",
       "      <td>0</td>\n",
       "      <td>0</td>\n",
       "      <td>0</td>\n",
       "    </tr>\n",
       "    <tr>\n",
       "      <th>4</th>\n",
       "      <td>0.0</td>\n",
       "      <td>2</td>\n",
       "      <td>5</td>\n",
       "      <td>9</td>\n",
       "      <td>3</td>\n",
       "      <td>11</td>\n",
       "      <td>10132</td>\n",
       "      <td>1641</td>\n",
       "      <td>0.161962</td>\n",
       "      <td>480</td>\n",
       "      <td>...</td>\n",
       "      <td>0</td>\n",
       "      <td>0</td>\n",
       "      <td>0</td>\n",
       "      <td>0</td>\n",
       "      <td>0</td>\n",
       "      <td>0</td>\n",
       "      <td>0</td>\n",
       "      <td>0</td>\n",
       "      <td>0</td>\n",
       "      <td>0</td>\n",
       "    </tr>\n",
       "  </tbody>\n",
       "</table>\n",
       "<p>5 rows × 521 columns</p>\n",
       "</div>"
      ],
      "text/plain": [
       "   segment  no_of_Cities  no_of_dow  no_of_tod  no_of_genre  no_of_title  \\\n",
       "0      0.0             2          7         14            3           60   \n",
       "1      0.0             3          7         16            2           70   \n",
       "2      0.0             1          1          3            2            2   \n",
       "3      0.0             3          5          6            2            8   \n",
       "4      0.0             2          5          9            3           11   \n",
       "\n",
       "   total_time_spent  dow_1  dow_1_percent  dow_2             ...              \\\n",
       "0             87386   3412       0.039045   1737             ...               \n",
       "1             16371   5745       0.350925   3346             ...               \n",
       "2              4142      0       0.000000      0             ...               \n",
       "3              8348    658       0.078821      0             ...               \n",
       "4             10132   1641       0.161962    480             ...               \n",
       "\n",
       "   Jadeja's All-round Show Drives India  \\\n",
       "0                                     0   \n",
       "1                                     0   \n",
       "2                                     0   \n",
       "3                                     0   \n",
       "4                                     0   \n",
       "\n",
       "   Pyar Ka Dard Hai Meetha Meetha Pyara Pyara  Hero  \\\n",
       "0                                           0     0   \n",
       "1                                           0     0   \n",
       "2                                           0     0   \n",
       "3                                           0     0   \n",
       "4                                           0     0   \n",
       "\n",
       "   rd TI Kohli Happy with Series WIn  England Have a Warning for Kohli  \\\n",
       "0                                  0                                 0   \n",
       "1                                  1                                 0   \n",
       "2                                  0                                 0   \n",
       "3                                  0                                 0   \n",
       "4                                  0                                 0   \n",
       "\n",
       "   Dhoni Does It the Mahi Way with   India's Raw Star  \\\n",
       "0                                 0                 0   \n",
       "1                                 0                 0   \n",
       "2                                 0                 0   \n",
       "3                                 0                 0   \n",
       "4                                 0                 0   \n",
       "\n",
       "   LOL! Saha's All Over Smith  Morris's -ball * Deflates RPS  \\\n",
       "0                           0                              0   \n",
       "1                           0                              0   \n",
       "2                           0                              0   \n",
       "3                           0                              0   \n",
       "4                           0                              0   \n",
       "\n",
       "   Can't Miss Dhoni Trolls KP  \n",
       "0                           0  \n",
       "1                           0  \n",
       "2                           0  \n",
       "3                           0  \n",
       "4                           0  \n",
       "\n",
       "[5 rows x 521 columns]"
      ]
     },
     "execution_count": 4,
     "metadata": {},
     "output_type": "execute_result"
    }
   ],
   "source": [
    "data.head()"
   ]
  },
  {
   "cell_type": "code",
   "execution_count": 5,
   "metadata": {
    "collapsed": true
   },
   "outputs": [],
   "source": [
    "data_copy=data.copy()"
   ]
  },
  {
   "cell_type": "code",
   "execution_count": 6,
   "metadata": {
    "collapsed": true
   },
   "outputs": [],
   "source": [
    "del data_copy['segment']"
   ]
  },
  {
   "cell_type": "code",
   "execution_count": 7,
   "metadata": {
    "collapsed": true
   },
   "outputs": [],
   "source": [
    "target=data['segment']"
   ]
  },
  {
   "cell_type": "code",
   "execution_count": 8,
   "metadata": {
    "collapsed": false
   },
   "outputs": [
    {
     "data": {
      "text/plain": [
       "((140000, 520), (140000L,), (60000, 520), (60000L,))"
      ]
     },
     "execution_count": 8,
     "metadata": {},
     "output_type": "execute_result"
    }
   ],
   "source": [
    "tainX,testX,train_y,testy=cross_validation.train_test_split(data_copy,target,test_size=.3)\n",
    "tainX.shape,train_y.shape,testX.shape,testy.shape"
   ]
  },
  {
   "cell_type": "code",
   "execution_count": 9,
   "metadata": {
    "collapsed": true
   },
   "outputs": [],
   "source": [
    "train_batch=xgb.DMatrix( tainX, label=train_y)\n",
    "val_batch=xgb.DMatrix( testX, label=testy)"
   ]
  },
  {
   "cell_type": "code",
   "execution_count": 10,
   "metadata": {
    "collapsed": true
   },
   "outputs": [],
   "source": [
    "num_rounds=74"
   ]
  },
  {
   "cell_type": "code",
   "execution_count": 11,
   "metadata": {
    "collapsed": false,
    "scrolled": true
   },
   "outputs": [
    {
     "name": "stdout",
     "output_type": "stream",
     "text": [
      "[0]\ttrain-auc:0.798693\teval-auc:0.790453\n",
      "Multiple eval metrics have been passed: 'eval-auc' will be used for early stopping.\n",
      "\n",
      "Will train until eval-auc hasn't improved in 50 rounds.\n",
      "[1]\ttrain-auc:0.809538\teval-auc:0.797933\n",
      "[2]\ttrain-auc:0.814405\teval-auc:0.801017\n",
      "[3]\ttrain-auc:0.816479\teval-auc:0.802526\n",
      "[4]\ttrain-auc:0.817506\teval-auc:0.802934\n",
      "[5]\ttrain-auc:0.819012\teval-auc:0.803638\n",
      "[6]\ttrain-auc:0.820218\teval-auc:0.804325\n",
      "[7]\ttrain-auc:0.821203\teval-auc:0.804887\n",
      "[8]\ttrain-auc:0.822139\teval-auc:0.805278\n",
      "[9]\ttrain-auc:0.823264\teval-auc:0.806035\n",
      "[10]\ttrain-auc:0.823807\teval-auc:0.805993\n",
      "[11]\ttrain-auc:0.824612\teval-auc:0.806378\n",
      "[12]\ttrain-auc:0.825547\teval-auc:0.806835\n",
      "[13]\ttrain-auc:0.826274\teval-auc:0.807402\n",
      "[14]\ttrain-auc:0.826854\teval-auc:0.807948\n",
      "[15]\ttrain-auc:0.827317\teval-auc:0.808028\n",
      "[16]\ttrain-auc:0.828338\teval-auc:0.80825\n",
      "[17]\ttrain-auc:0.829231\teval-auc:0.808916\n",
      "[18]\ttrain-auc:0.829854\teval-auc:0.808863\n",
      "[19]\ttrain-auc:0.830345\teval-auc:0.809344\n",
      "[20]\ttrain-auc:0.830968\teval-auc:0.809603\n",
      "[21]\ttrain-auc:0.831798\teval-auc:0.810329\n",
      "[22]\ttrain-auc:0.832366\teval-auc:0.810641\n",
      "[23]\ttrain-auc:0.832956\teval-auc:0.811218\n",
      "[24]\ttrain-auc:0.833621\teval-auc:0.811278\n",
      "[25]\ttrain-auc:0.834263\teval-auc:0.811749\n",
      "[26]\ttrain-auc:0.835121\teval-auc:0.812071\n",
      "[27]\ttrain-auc:0.835949\teval-auc:0.812503\n",
      "[28]\ttrain-auc:0.836574\teval-auc:0.812601\n",
      "[29]\ttrain-auc:0.837279\teval-auc:0.812847\n",
      "[30]\ttrain-auc:0.837887\teval-auc:0.813219\n",
      "[31]\ttrain-auc:0.838715\teval-auc:0.813377\n",
      "[32]\ttrain-auc:0.839485\teval-auc:0.813771\n",
      "[33]\ttrain-auc:0.8405\teval-auc:0.814103\n",
      "[34]\ttrain-auc:0.841024\teval-auc:0.8143\n",
      "[35]\ttrain-auc:0.841646\teval-auc:0.814427\n",
      "[36]\ttrain-auc:0.84211\teval-auc:0.814584\n",
      "[37]\ttrain-auc:0.842768\teval-auc:0.814928\n",
      "[38]\ttrain-auc:0.843442\teval-auc:0.815036\n",
      "[39]\ttrain-auc:0.844112\teval-auc:0.815263\n",
      "[40]\ttrain-auc:0.844603\teval-auc:0.815261\n",
      "[41]\ttrain-auc:0.845026\teval-auc:0.815451\n",
      "[42]\ttrain-auc:0.845532\teval-auc:0.815622\n",
      "[43]\ttrain-auc:0.846065\teval-auc:0.815782\n",
      "[44]\ttrain-auc:0.846517\teval-auc:0.815983\n",
      "[45]\ttrain-auc:0.847065\teval-auc:0.816028\n",
      "[46]\ttrain-auc:0.847706\teval-auc:0.816288\n",
      "[47]\ttrain-auc:0.84829\teval-auc:0.816348\n",
      "[48]\ttrain-auc:0.848789\teval-auc:0.816532\n",
      "[49]\ttrain-auc:0.849608\teval-auc:0.816762\n",
      "[50]\ttrain-auc:0.850092\teval-auc:0.816962\n",
      "[51]\ttrain-auc:0.850534\teval-auc:0.816969\n",
      "[52]\ttrain-auc:0.851038\teval-auc:0.817165\n",
      "[53]\ttrain-auc:0.851597\teval-auc:0.817365\n",
      "[54]\ttrain-auc:0.852036\teval-auc:0.8174\n",
      "[55]\ttrain-auc:0.852503\teval-auc:0.817505\n",
      "[56]\ttrain-auc:0.853055\teval-auc:0.817472\n",
      "[57]\ttrain-auc:0.853314\teval-auc:0.817611\n",
      "[58]\ttrain-auc:0.853837\teval-auc:0.817723\n",
      "[59]\ttrain-auc:0.854437\teval-auc:0.817827\n",
      "[60]\ttrain-auc:0.854837\teval-auc:0.817875\n",
      "[61]\ttrain-auc:0.855511\teval-auc:0.818008\n",
      "[62]\ttrain-auc:0.85586\teval-auc:0.818105\n",
      "[63]\ttrain-auc:0.856351\teval-auc:0.818356\n",
      "[64]\ttrain-auc:0.856781\teval-auc:0.818505\n",
      "[65]\ttrain-auc:0.85737\teval-auc:0.818616\n",
      "[66]\ttrain-auc:0.857646\teval-auc:0.818692\n",
      "[67]\ttrain-auc:0.858189\teval-auc:0.818691\n",
      "[68]\ttrain-auc:0.858663\teval-auc:0.818749\n",
      "[69]\ttrain-auc:0.859107\teval-auc:0.818786\n",
      "[70]\ttrain-auc:0.859587\teval-auc:0.818767\n",
      "[71]\ttrain-auc:0.859953\teval-auc:0.818758\n",
      "[72]\ttrain-auc:0.86026\teval-auc:0.818748\n",
      "[73]\ttrain-auc:0.860642\teval-auc:0.818811\n"
     ]
    }
   ],
   "source": [
    "param = {'max_depth':2, 'eta':1, 'silent':1, 'objective':'binary:logistic','eval_metric':'auc',\n",
    "        'learning_rate' :0.1, 'n_estimators':140, 'max_depth':6,\n",
    " 'min_child_weight':1, 'gamma':0, 'subsample':0.8, 'colsample_bytree':0.8,\n",
    " 'objective': 'binary:logistic', 'nthread':4, 'scale_pos_weight':1,'seed':27}\n",
    "watchlist  = [ (train_batch,'train'),(val_batch,'eval')]\n",
    "model = xgb.train(param, train_batch, num_rounds,watchlist,early_stopping_rounds=50) "
   ]
  },
  {
   "cell_type": "code",
   "execution_count": 12,
   "metadata": {
    "collapsed": false
   },
   "outputs": [],
   "source": [
    "ped2_XGB=model.predict(val_batch)"
   ]
  },
  {
   "cell_type": "code",
   "execution_count": 13,
   "metadata": {
    "collapsed": false
   },
   "outputs": [
    {
     "data": {
      "text/plain": [
       "0.81881150019573901"
      ]
     },
     "execution_count": 13,
     "metadata": {},
     "output_type": "execute_result"
    }
   ],
   "source": [
    "metrics.roc_auc_score(testy,ped2_XGB)"
   ]
  },
  {
   "cell_type": "code",
   "execution_count": 14,
   "metadata": {
    "collapsed": false
   },
   "outputs": [
    {
     "name": "stdout",
     "output_type": "stream",
     "text": [
      "done\n"
     ]
    },
    {
     "data": {
      "text/plain": [
       "0.76924615769058069"
      ]
     },
     "execution_count": 14,
     "metadata": {},
     "output_type": "execute_result"
    }
   ],
   "source": [
    "ada_model=ensemble.AdaBoostRegressor().fit(tainX,train_y)\n",
    "print 'done'\n",
    "pred_ada=ada_model.predict(testX)\n",
    "metrics.roc_auc_score(testy,pred_ada)"
   ]
  },
  {
   "cell_type": "code",
   "execution_count": 15,
   "metadata": {
    "collapsed": false
   },
   "outputs": [
    {
     "name": "stdout",
     "output_type": "stream",
     "text": [
      "done\n"
     ]
    },
    {
     "data": {
      "text/plain": [
       "0.81383586169605826"
      ]
     },
     "execution_count": 15,
     "metadata": {},
     "output_type": "execute_result"
    }
   ],
   "source": [
    "GBR_model=ensemble.GradientBoostingRegressor().fit(tainX,train_y)\n",
    "print 'done'\n",
    "pred_GBR_model=GBR_model.predict(testX)\n",
    "metrics.roc_auc_score(testy,pred_GBR_model)"
   ]
  },
  {
   "cell_type": "code",
   "execution_count": 16,
   "metadata": {
    "collapsed": false
   },
   "outputs": [
    {
     "name": "stdout",
     "output_type": "stream",
     "text": [
      "done\n"
     ]
    },
    {
     "data": {
      "text/plain": [
       "0.80876811426264272"
      ]
     },
     "execution_count": 16,
     "metadata": {},
     "output_type": "execute_result"
    }
   ],
   "source": [
    "Line_model=linear_model.LinearRegression().fit(tainX,train_y)\n",
    "print 'done'\n",
    "pred_Line_model=Line_model.predict(testX)\n",
    "metrics.roc_auc_score(testy,pred_Line_model)"
   ]
  },
  {
   "cell_type": "code",
   "execution_count": 57,
   "metadata": {
    "collapsed": false
   },
   "outputs": [],
   "source": [
    "pred_ada=ada_model.predict(tainX)\n",
    "pred_GBR_model=GBR_model.predict(tainX)\n",
    "pred_Line_model=Line_model.predict(tainX)\n",
    "ped2_XGB=model.predict(train_batch)\n",
    "\n",
    "new_cola=pd.DataFrame()\n",
    "new_cola['pred_ada']=pred_ada\n",
    "new_cola['pred_GBR_model']=pred_GBR_model\n",
    "new_cola['pred_Line_model']=pred_Line_model\n",
    "new_cola['ped2_XGB']=ped2_XGB"
   ]
  },
  {
   "cell_type": "code",
   "execution_count": 19,
   "metadata": {
    "collapsed": false
   },
   "outputs": [
    {
     "data": {
      "text/plain": [
       "60000"
      ]
     },
     "execution_count": 19,
     "metadata": {},
     "output_type": "execute_result"
    }
   ],
   "source": [
    "len(kuch_bh)"
   ]
  },
  {
   "cell_type": "code",
   "execution_count": 20,
   "metadata": {
    "collapsed": false
   },
   "outputs": [
    {
     "data": {
      "text/plain": [
       "0.81627217813448449"
      ]
     },
     "execution_count": 20,
     "metadata": {},
     "output_type": "execute_result"
    }
   ],
   "source": [
    "kuch_bh=(pred_ada+pred_GBR_model+pred_Line_model+ped2_XGB)/4\n",
    "metrics.roc_auc_score(testy,kuch_bh)"
   ]
  },
  {
   "cell_type": "code",
   "execution_count": 58,
   "metadata": {
    "collapsed": false
   },
   "outputs": [
    {
     "data": {
      "text/plain": [
       "((140000, 4), (140000L,))"
      ]
     },
     "execution_count": 58,
     "metadata": {},
     "output_type": "execute_result"
    }
   ],
   "source": [
    "new_cola.shape,train_y.shape"
   ]
  },
  {
   "cell_type": "code",
   "execution_count": 59,
   "metadata": {
    "collapsed": true
   },
   "outputs": [],
   "source": [
    "train_batchaaa=xgb.DMatrix( new_cola, label=train_y)\n",
    "num_rounds=74"
   ]
  },
  {
   "cell_type": "code",
   "execution_count": 60,
   "metadata": {
    "collapsed": false
   },
   "outputs": [],
   "source": [
    "param = {'max_depth':2, 'eta':1, 'silent':1, 'objective':'binary:logistic','eval_metric':'auc',\n",
    "        'learning_rate' :0.1, 'n_estimators':140, 'max_depth':6,\n",
    " 'min_child_weight':1, 'gamma':0, 'subsample':0.8, 'colsample_bytree':0.8,\n",
    " 'objective': 'binary:logistic', 'nthread':4, 'scale_pos_weight':1,'seed':27}\n",
    "\n",
    "model2 = xgb.train(param, train_batchaaa, num_rounds) "
   ]
  },
  {
   "cell_type": "code",
   "execution_count": 61,
   "metadata": {
    "collapsed": true
   },
   "outputs": [],
   "source": [
    "pred_ada_val=ada_model.predict(testX)\n",
    "pred_GBR_model_val=GBR_model.predict(testX)\n",
    "pred_Line_model_val=Line_model.predict(testX)\n",
    "ped2_XGB_val=model.predict(val_batch)\n",
    "\n",
    "new_cola_val=pd.DataFrame()\n",
    "new_cola_val['pred_ada']=pred_ada_val\n",
    "new_cola_val['pred_GBR_model']=pred_GBR_model_val\n",
    "new_cola_val['pred_Line_model']=pred_Line_model_val\n",
    "new_cola_val['ped2_XGB']=ped2_XGB_val"
   ]
  },
  {
   "cell_type": "code",
   "execution_count": 70,
   "metadata": {
    "collapsed": false
   },
   "outputs": [
    {
     "data": {
      "text/plain": [
       "0.81093642655357945"
      ]
     },
     "execution_count": 70,
     "metadata": {},
     "output_type": "execute_result"
    }
   ],
   "source": [
    "kuch_bh=(pred_ada_val+pred_GBR_model_val+pred_Line_model_val+ped2_XGB_val)/4\n",
    "metrics.roc_auc_score(testy,kuch_bh)"
   ]
  },
  {
   "cell_type": "code",
   "execution_count": 71,
   "metadata": {
    "collapsed": false
   },
   "outputs": [
    {
     "data": {
      "text/plain": [
       "0.80817360826959783"
      ]
     },
     "execution_count": 71,
     "metadata": {},
     "output_type": "execute_result"
    }
   ],
   "source": [
    "kuch_bh=(pred_ada_val+pred_GBR_model_val+pred_Line_model_val)/3\n",
    "metrics.roc_auc_score(testy,kuch_bh)"
   ]
  },
  {
   "cell_type": "code",
   "execution_count": 72,
   "metadata": {
    "collapsed": false
   },
   "outputs": [
    {
     "data": {
      "text/plain": [
       "0.8100865654385635"
      ]
     },
     "execution_count": 72,
     "metadata": {},
     "output_type": "execute_result"
    }
   ],
   "source": [
    "kuch_bh=(pred_ada_val+pred_GBR_model_val+ped2_XGB_val)/3\n",
    "metrics.roc_auc_score(testy,kuch_bh)"
   ]
  },
  {
   "cell_type": "code",
   "execution_count": 73,
   "metadata": {
    "collapsed": false
   },
   "outputs": [
    {
     "data": {
      "text/plain": [
       "0.81035368049700962"
      ]
     },
     "execution_count": 73,
     "metadata": {},
     "output_type": "execute_result"
    }
   ],
   "source": [
    "kuch_bh=(pred_ada_val+pred_Line_model_val+ped2_XGB_val)/3\n",
    "metrics.roc_auc_score(testy,kuch_bh)"
   ]
  },
  {
   "cell_type": "code",
   "execution_count": 74,
   "metadata": {
    "collapsed": false
   },
   "outputs": [
    {
     "data": {
      "text/plain": [
       "0.81151252305874555"
      ]
     },
     "execution_count": 74,
     "metadata": {},
     "output_type": "execute_result"
    }
   ],
   "source": [
    "kuch_bh=(pred_GBR_model_val+pred_Line_model_val+ped2_XGB_val)/3\n",
    "metrics.roc_auc_score(testy,kuch_bh)"
   ]
  },
  {
   "cell_type": "code",
   "execution_count": null,
   "metadata": {
    "collapsed": true
   },
   "outputs": [],
   "source": [
    "kuch_bh=(pred_ada_val+pred_GBR_model_val+pred_Line_model_val+ped2_XGB_val)/4\n",
    "metrics.roc_auc_score(testy,kuch_bh)"
   ]
  },
  {
   "cell_type": "code",
   "execution_count": null,
   "metadata": {
    "collapsed": true
   },
   "outputs": [],
   "source": []
  },
  {
   "cell_type": "code",
   "execution_count": null,
   "metadata": {
    "collapsed": true
   },
   "outputs": [],
   "source": []
  },
  {
   "cell_type": "code",
   "execution_count": null,
   "metadata": {
    "collapsed": true
   },
   "outputs": [],
   "source": []
  },
  {
   "cell_type": "code",
   "execution_count": null,
   "metadata": {
    "collapsed": true
   },
   "outputs": [],
   "source": []
  },
  {
   "cell_type": "code",
   "execution_count": null,
   "metadata": {
    "collapsed": true
   },
   "outputs": [],
   "source": []
  },
  {
   "cell_type": "code",
   "execution_count": 62,
   "metadata": {
    "collapsed": true
   },
   "outputs": [],
   "source": [
    "val_batchaaa=xgb.DMatrix( new_cola_val)"
   ]
  },
  {
   "cell_type": "code",
   "execution_count": 63,
   "metadata": {
    "collapsed": false
   },
   "outputs": [],
   "source": [
    "pred333=model2.predict(val_batchaaa)"
   ]
  },
  {
   "cell_type": "code",
   "execution_count": 64,
   "metadata": {
    "collapsed": false
   },
   "outputs": [
    {
     "data": {
      "text/plain": [
       "0.79401405468250386"
      ]
     },
     "execution_count": 64,
     "metadata": {},
     "output_type": "execute_result"
    }
   ],
   "source": [
    "metrics.roc_auc_score(testy,pred333)"
   ]
  },
  {
   "cell_type": "code",
   "execution_count": null,
   "metadata": {
    "collapsed": false
   },
   "outputs": [],
   "source": [
    "lala=pd.read_csv('prob2xgb.csv')"
   ]
  },
  {
   "cell_type": "code",
   "execution_count": null,
   "metadata": {
    "collapsed": true
   },
   "outputs": [],
   "source": [
    "sub=pd.concat([lala['ID'],pd.DataFrame(pred[::,1])],axis=1)\n",
    "sub.columns=['ID','segment']\n",
    "sub.to_csv('xgbcv5.csv',index=False)"
   ]
  },
  {
   "cell_type": "code",
   "execution_count": null,
   "metadata": {
    "collapsed": true
   },
   "outputs": [],
   "source": []
  }
 ],
 "metadata": {
  "kernelspec": {
   "display_name": "Python 2",
   "language": "python",
   "name": "python2"
  },
  "language_info": {
   "codemirror_mode": {
    "name": "ipython",
    "version": 2
   },
   "file_extension": ".py",
   "mimetype": "text/x-python",
   "name": "python",
   "nbconvert_exporter": "python",
   "pygments_lexer": "ipython2",
   "version": "2.7.13"
  }
 },
 "nbformat": 4,
 "nbformat_minor": 2
}
