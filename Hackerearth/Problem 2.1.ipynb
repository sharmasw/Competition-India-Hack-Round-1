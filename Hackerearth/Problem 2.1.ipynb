{
 "cells": [
  {
   "cell_type": "code",
   "execution_count": 2,
   "metadata": {
    "collapsed": false
   },
   "outputs": [],
   "source": [
    "import pandas as pd\n",
    "import numpy as np\n",
    "import xgboost as xgb\n",
    "import seaborn as sns\n",
    "%matplotlib inline\n",
    "import matplotlib.pyplot as plt\n",
    "import operator\n",
    "import re\n",
    "from collections import Counter\n",
    "path='C:/Projects/Hackerearth/Problem 2/'\n",
    "# path=''"
   ]
  },
  {
   "cell_type": "code",
   "execution_count": 3,
   "metadata": {
    "collapsed": false
   },
   "outputs": [],
   "source": [
    "data=pd.read_json(path+'train_data.json')\n",
    "test_data=pd.read_json(path+'test_data.json')"
   ]
  },
  {
   "cell_type": "code",
   "execution_count": 4,
   "metadata": {
    "collapsed": false
   },
   "outputs": [
    {
     "data": {
      "text/plain": [
       "((200000, 6), (100000, 5))"
      ]
     },
     "execution_count": 4,
     "metadata": {},
     "output_type": "execute_result"
    }
   ],
   "source": [
    "train_data=data.transpose()\n",
    "test=test_data.transpose()\n",
    "train_data.shape,test.shape"
   ]
  },
  {
   "cell_type": "code",
   "execution_count": 5,
   "metadata": {
    "collapsed": false
   },
   "outputs": [],
   "source": [
    "test=test.reset_index()\n",
    "train_data=train_data.reset_index()"
   ]
  },
  {
   "cell_type": "code",
   "execution_count": 6,
   "metadata": {
    "collapsed": true
   },
   "outputs": [],
   "source": [
    "mappa={'neg':0,'pos':1}\n",
    "train_data['segment']=train_data['segment'].map(mappa)"
   ]
  },
  {
   "cell_type": "code",
   "execution_count": 7,
   "metadata": {
    "collapsed": false
   },
   "outputs": [],
   "source": [
    "all_data=pd.concat([train_data,test],axis=0)\n",
    "all_data=all_data.reset_index(drop=True)\n",
    "all_data.columns=[u'cities', u'dow', u'genres', u'user_id', u'segment', u'titles', u'tod']"
   ]
  },
  {
   "cell_type": "code",
   "execution_count": 8,
   "metadata": {
    "collapsed": false
   },
   "outputs": [],
   "source": [
    "all_data['no_of_Cities']=all_data['cities'].apply(lambda x:len(x.split(',')) )\n",
    "all_data['no_of_dow']=all_data['dow'].apply(lambda x:len(x.split(',')) )\n",
    "all_data['no_of_tod']=all_data['tod'].apply(lambda x:len(x.split(',')) )\n",
    "all_data['no_of_genre']=all_data['genres'].apply(lambda x:len(x.split(',')) )\n",
    "all_data['no_of_title']=all_data['titles'].apply(lambda x:len(x.split(',')) )\n",
    "all_data['total_time_spent']=all_data['cities'].apply(lambda x:sum([int(i.split(':')[1] )for i in x.split(',')]))\n",
    "all_data['dow']=all_data['dow'].apply(lambda x:[[i.split(':')[0],int(i.split(':')[1])] for i in x.split(',')])\n",
    "all_data['tod']=all_data['tod'].apply(lambda x:[[i.split(':')[0],int(i.split(':')[1])] for i in x.split(',')])\n",
    "all_data['genres']=all_data['genres'].apply(lambda x:[[i.split(':')[0],int(i.split(':')[1])] for i in x.split(',')])"
   ]
  },
  {
   "cell_type": "code",
   "execution_count": 9,
   "metadata": {
    "collapsed": true
   },
   "outputs": [],
   "source": [
    "def value_dow(x,a):\n",
    "    try:\n",
    "        return [i[1] for i in x if i[0]==a][0]\n",
    "    except:\n",
    "        return 0\n",
    "    \n",
    "def greaterthan(x):\n",
    "    if x>= 1:\n",
    "        return 1\n",
    "    else:\n",
    "        return 0    \n",
    "\n",
    "genre_list=set([item[0] for kk in all_data['genres'] for item in kk])"
   ]
  },
  {
   "cell_type": "code",
   "execution_count": 10,
   "metadata": {
    "collapsed": false,
    "scrolled": true
   },
   "outputs": [],
   "source": [
    "list_of_var=[]\n",
    "for kk in range(1,8):\n",
    "    list_of_var.append('dow_'+str(kk))\n",
    "    all_data['dow_'+str(kk)]=all_data['dow'].apply(lambda x:value_dow(x,str(kk)))\n",
    "    all_data['dow_'+str(kk)+'_percent']=all_data['dow_'+str(kk)]/all_data['total_time_spent']\n",
    "    \n",
    "for kk in range(0,24):\n",
    "    list_of_var.append('tod_'+str(kk))\n",
    "    all_data['tod_'+str(kk)]=all_data['tod'].apply(lambda x:value_dow(x,str(kk)))\n",
    "    all_data['tod_'+str(kk)+'_percent']=all_data['tod_'+str(kk)]/all_data['total_time_spent']\n",
    "    \n",
    "for ee in genre_list:\n",
    "    list_of_var.append('genres_'+str(ee))\n",
    "    all_data['genres_'+str(ee)]=all_data['genres'].apply(lambda x:value_dow(x,str(ee)))\n",
    "    all_data['genres_'+str(ee)+'_percent']=all_data['genres_'+str(ee)]/all_data['total_time_spent']"
   ]
  },
  {
   "cell_type": "code",
   "execution_count": 11,
   "metadata": {
    "collapsed": false
   },
   "outputs": [],
   "source": [
    "for cola in list_of_var:\n",
    "    all_data[cola+'_present']=all_data[cola].apply(lambda x:greaterthan(x) )"
   ]
  },
  {
   "cell_type": "code",
   "execution_count": 12,
   "metadata": {
    "collapsed": true
   },
   "outputs": [],
   "source": [
    "all_data['average_per_day']= all_data['total_time_spent']/all_data['no_of_dow']\n",
    "all_data['average_per_city']= all_data['total_time_spent']/all_data['no_of_Cities']\n",
    "all_data['average_per_time']= all_data['total_time_spent']/all_data['no_of_tod']\n",
    "all_data['average_per_title']= all_data['total_time_spent']/all_data['no_of_title']\n",
    "all_data['average_per_genre']= all_data['total_time_spent']/all_data['no_of_genre']\n",
    "all_data['title_per_genre']=all_data['no_of_title']/all_data['no_of_genre']\n",
    "all_data['sum_of_tamasha']=all_data[['no_of_title','no_of_dow','no_of_Cities','no_of_tod','no_of_genre']].sum(axis=1)"
   ]
  },
  {
   "cell_type": "code",
   "execution_count": 13,
   "metadata": {
    "collapsed": false
   },
   "outputs": [],
   "source": [
    "title_all=[]\n",
    "for ffff in all_data['titles']:\n",
    "    kkkk=re.sub('\\d*','',ffff).replace(':','').split(',')\n",
    "    title_all.append(kkkk)\n",
    "    \n",
    "title_list=[topa for top in title_all for topa in top]\n",
    "\n",
    "count_of_tile=Counter(title_list)\n",
    "\n",
    "dica_title={}\n",
    "for tita in  count_of_tile:\n",
    "    dica_title[tita]=count_of_tile[tita]\n",
    "    \n",
    "sorted_x=sorted(dica_title.items(), key=operator.itemgetter(1),reverse=True)\n",
    "\n",
    "title_cols=[ j[0] for j in  sorted_x if j[1] > 1000]"
   ]
  },
  {
   "cell_type": "code",
   "execution_count": 14,
   "metadata": {
    "collapsed": false
   },
   "outputs": [],
   "source": [
    "all_data['titles']=title_all"
   ]
  },
  {
   "cell_type": "code",
   "execution_count": 15,
   "metadata": {
    "collapsed": false
   },
   "outputs": [],
   "source": [
    "def title_tally(y,x):\n",
    "    if y in x:\n",
    "        return 1\n",
    "    else:\n",
    "        return 0"
   ]
  },
  {
   "cell_type": "code",
   "execution_count": 16,
   "metadata": {
    "collapsed": false
   },
   "outputs": [],
   "source": [
    "for x,claa in enumerate(title_cols):\n",
    "    all_data['title_00'+str(x) ] = all_data['titles'].apply(lambda x: title_tally(claa,x) )"
   ]
  },
  {
   "cell_type": "code",
   "execution_count": 17,
   "metadata": {
    "collapsed": false
   },
   "outputs": [],
   "source": [
    "exper_data=all_data[:200000].copy()\n",
    "del exper_data['cities']\n",
    "del exper_data['dow']\n",
    "del exper_data['tod']\n",
    "del exper_data['genres']\n",
    "del exper_data['titles']\n",
    "del exper_data['user_id']"
   ]
  },
  {
   "cell_type": "code",
   "execution_count": 18,
   "metadata": {
    "collapsed": false
   },
   "outputs": [
    {
     "data": {
      "text/plain": [
       "(200000, 752)"
      ]
     },
     "execution_count": 18,
     "metadata": {},
     "output_type": "execute_result"
    }
   ],
   "source": [
    "exper_data.shape"
   ]
  },
  {
   "cell_type": "code",
   "execution_count": 19,
   "metadata": {
    "collapsed": false
   },
   "outputs": [],
   "source": [
    "exper_data.to_csv(path+'new_trains.csv',index=False)"
   ]
  },
  {
   "cell_type": "code",
   "execution_count": 20,
   "metadata": {
    "collapsed": true
   },
   "outputs": [],
   "source": [
    "del data"
   ]
  },
  {
   "cell_type": "code",
   "execution_count": 21,
   "metadata": {
    "collapsed": true
   },
   "outputs": [],
   "source": [
    "del exper_data"
   ]
  },
  {
   "cell_type": "code",
   "execution_count": 22,
   "metadata": {
    "collapsed": false,
    "scrolled": true
   },
   "outputs": [],
   "source": [
    "naya_data=all_data.copy()\n",
    "del naya_data['cities']\n",
    "del naya_data['dow']\n",
    "del naya_data['tod']\n",
    "del naya_data['genres']\n",
    "del naya_data['titles']\n",
    "del naya_data['user_id']\n",
    "del naya_data['segment']"
   ]
  },
  {
   "cell_type": "code",
   "execution_count": 23,
   "metadata": {
    "collapsed": false
   },
   "outputs": [
    {
     "data": {
      "text/plain": [
       "(300000, 751)"
      ]
     },
     "execution_count": 23,
     "metadata": {},
     "output_type": "execute_result"
    }
   ],
   "source": [
    "naya_data.shape"
   ]
  },
  {
   "cell_type": "code",
   "execution_count": 24,
   "metadata": {
    "collapsed": true
   },
   "outputs": [],
   "source": [
    "naya_data[200000:].to_csv(path+'new_test.csv',index=False)"
   ]
  },
  {
   "cell_type": "code",
   "execution_count": null,
   "metadata": {
    "collapsed": false
   },
   "outputs": [],
   "source": [
    "naya_data.shape,exper_data.shape"
   ]
  },
  {
   "cell_type": "code",
   "execution_count": null,
   "metadata": {
    "collapsed": true
   },
   "outputs": [],
   "source": [
    "target=train_data['segment']"
   ]
  },
  {
   "cell_type": "code",
   "execution_count": null,
   "metadata": {
    "collapsed": true
   },
   "outputs": [],
   "source": [
    "model=xgb.XGBClassifier()"
   ]
  },
  {
   "cell_type": "code",
   "execution_count": null,
   "metadata": {
    "collapsed": false
   },
   "outputs": [],
   "source": [
    "model.fit(naya_data[:200000], target)"
   ]
  },
  {
   "cell_type": "code",
   "execution_count": null,
   "metadata": {
    "collapsed": true
   },
   "outputs": [],
   "source": [
    "pred=model.predict_proba(naya_data[200000:])"
   ]
  },
  {
   "cell_type": "code",
   "execution_count": null,
   "metadata": {
    "collapsed": false
   },
   "outputs": [],
   "source": [
    "pred[::,1]"
   ]
  },
  {
   "cell_type": "code",
   "execution_count": null,
   "metadata": {
    "collapsed": false
   },
   "outputs": [],
   "source": [
    "sub=pd.concat([test['index'],pd.DataFrame(pred[::,1])],axis=1)\n",
    "sub.columns=['ID','segment']\n",
    "sub.to_csv(path+'ghrprob2xgb.csv',index=False)"
   ]
  },
  {
   "cell_type": "code",
   "execution_count": null,
   "metadata": {
    "collapsed": false
   },
   "outputs": [],
   "source": []
  },
  {
   "cell_type": "code",
   "execution_count": null,
   "metadata": {
    "collapsed": true
   },
   "outputs": [],
   "source": []
  },
  {
   "cell_type": "markdown",
   "metadata": {},
   "source": [
    "### RF"
   ]
  },
  {
   "cell_type": "code",
   "execution_count": null,
   "metadata": {
    "collapsed": false
   },
   "outputs": [],
   "source": [
    "from sklearn import ensemble"
   ]
  },
  {
   "cell_type": "code",
   "execution_count": null,
   "metadata": {
    "collapsed": true
   },
   "outputs": [],
   "source": [
    "rf1=ensemble.RandomForestClassifier(n_estimators=100)\n",
    "rf1.fit(naya_data[:200000], target)\n",
    "rfpred=rf1.predict_proba(naya_data[200000:])"
   ]
  },
  {
   "cell_type": "code",
   "execution_count": null,
   "metadata": {
    "collapsed": false
   },
   "outputs": [],
   "source": [
    "sub2=pd.concat([test['index'],pd.DataFrame(rfpred[::,1])],axis=1)\n",
    "sub2.columns=['ID','segment']\n",
    "sub2.to_csv('prob2rf.csv',index=False)"
   ]
  },
  {
   "cell_type": "markdown",
   "metadata": {},
   "source": [
    "### mean"
   ]
  },
  {
   "cell_type": "code",
   "execution_count": null,
   "metadata": {
    "collapsed": false
   },
   "outputs": [],
   "source": [
    "np.corrcoef(sub['segment'],sub2['segment'])"
   ]
  },
  {
   "cell_type": "code",
   "execution_count": null,
   "metadata": {
    "collapsed": false,
    "scrolled": true
   },
   "outputs": [],
   "source": [
    "sub3=(sub['segment']+sub2['segment'])/2"
   ]
  },
  {
   "cell_type": "code",
   "execution_count": null,
   "metadata": {
    "collapsed": true
   },
   "outputs": [],
   "source": [
    "sub4=pd.concat([test['index'],pd.DataFrame(sub3)],axis=1)\n",
    "sub4.columns=['ID','segment']\n",
    "sub4.to_csv('prob2mean.csv',index=False)"
   ]
  },
  {
   "cell_type": "markdown",
   "metadata": {},
   "source": [
    "### weighted"
   ]
  },
  {
   "cell_type": "code",
   "execution_count": null,
   "metadata": {
    "collapsed": false
   },
   "outputs": [],
   "source": [
    "sub5=(.75*(sub['segment'])+.25*(sub2['segment']))"
   ]
  },
  {
   "cell_type": "code",
   "execution_count": null,
   "metadata": {
    "collapsed": true
   },
   "outputs": [],
   "source": [
    "sub6=pd.concat([test['index'],pd.DataFrame(sub5)],axis=1)\n",
    "sub6.columns=['ID','segment']\n",
    "sub6.to_csv('prob2weighted.csv',index=False)"
   ]
  },
  {
   "cell_type": "code",
   "execution_count": null,
   "metadata": {
    "collapsed": true
   },
   "outputs": [],
   "source": []
  }
 ],
 "metadata": {
  "anaconda-cloud": {},
  "kernelspec": {
   "display_name": "Python [Root]",
   "language": "python",
   "name": "Python [Root]"
  },
  "language_info": {
   "codemirror_mode": {
    "name": "ipython",
    "version": 2
   },
   "file_extension": ".py",
   "mimetype": "text/x-python",
   "name": "python",
   "nbconvert_exporter": "python",
   "pygments_lexer": "ipython2",
   "version": "2.7.12"
  }
 },
 "nbformat": 4,
 "nbformat_minor": 2
}
